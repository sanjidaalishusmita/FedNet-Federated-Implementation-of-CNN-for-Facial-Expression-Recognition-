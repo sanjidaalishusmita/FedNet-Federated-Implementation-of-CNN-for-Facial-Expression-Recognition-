{
 "cells": [
  {
   "cell_type": "markdown",
   "id": "51648765",
   "metadata": {},
   "source": [
    "## Importing Packages"
   ]
  },
  {
   "cell_type": "code",
   "execution_count": 1,
   "id": "9b43d7a6",
   "metadata": {},
   "outputs": [],
   "source": [
    "import numpy as np\n",
    "import random\n",
    "import cv2\n",
    "import os\n",
    "from imutils import paths\n",
    "from sklearn.model_selection import train_test_split\n",
    "from sklearn.preprocessing import LabelBinarizer\n",
    "from sklearn.model_selection import train_test_split\n",
    "from sklearn.utils import shuffle\n",
    "from sklearn.metrics import accuracy_score\n",
    "\n",
    "import tensorflow as tf\n",
    "from tensorflow.keras.models import Sequential\n",
    "from tensorflow.keras.layers import Conv2D\n",
    "from tensorflow.keras.layers import MaxPooling2D\n",
    "from tensorflow.keras.layers import Activation\n",
    "from tensorflow.keras.layers import Flatten\n",
    "from tensorflow.keras.layers import Dense\n",
    "from tensorflow.keras.layers import BatchNormalization\n",
    "from tensorflow.keras.layers import Dropout\n",
    "from tensorflow.keras.optimizers import SGD\n",
    "from tensorflow.keras import backend as K"
   ]
  },
  {
   "cell_type": "code",
   "execution_count": 2,
   "id": "78744122",
   "metadata": {},
   "outputs": [],
   "source": [
    "from fl_mnist_implementation_utils import *"
   ]
  },
  {
   "cell_type": "markdown",
   "id": "e0630e70",
   "metadata": {},
   "source": [
    "## Loading Dataset & Data Preprocessing"
   ]
  },
  {
   "cell_type": "code",
   "execution_count": 3,
   "id": "0dcdde2e",
   "metadata": {},
   "outputs": [],
   "source": [
    "def load(paths, verbose=-1):\n",
    "    '''expects images for each class in seperate dir, \n",
    "    e.g all digits in 0 class in the directory named 0 '''\n",
    "    data = list()\n",
    "    labels = list()\n",
    "    # loop over the input images\n",
    "    for (i, imgpath) in enumerate(paths):\n",
    "        # load the image and extract the class labels\n",
    "        im_gray = cv2.imread(imgpath, cv2.IMREAD_GRAYSCALE)\n",
    "        im_gray_resized = cv2.resize(im_gray, (48,69), interpolation = cv2.INTER_AREA)\n",
    "        #image = np.array(im_gray).flatten()\n",
    "        label = imgpath.split(os.path.sep)[-2]\n",
    "        # scale the image to [0, 1] and add to list\n",
    "        data.append(im_gray_resized/255)\n",
    "        labels.append(label)\n",
    "        # show an update every `verbose` images\n",
    "        if verbose > 0 and i > 0 and (i + 1) % verbose == 0:\n",
    "            print(\"[INFO] processed {}/{}\".format(i + 1, len(paths)))\n",
    "    # return a tuple of the data and labels\n",
    "    return data, labels"
   ]
  },
  {
   "cell_type": "code",
   "execution_count": 4,
   "id": "2dbb8b81",
   "metadata": {},
   "outputs": [
    {
     "name": "stdout",
     "output_type": "stream",
     "text": [
      "[INFO] processed 100/1635\n",
      "[INFO] processed 200/1635\n",
      "[INFO] processed 300/1635\n",
      "[INFO] processed 400/1635\n",
      "[INFO] processed 500/1635\n",
      "[INFO] processed 600/1635\n",
      "[INFO] processed 700/1635\n",
      "[INFO] processed 800/1635\n",
      "[INFO] processed 900/1635\n",
      "[INFO] processed 1000/1635\n",
      "[INFO] processed 1100/1635\n",
      "[INFO] processed 1200/1635\n",
      "[INFO] processed 1300/1635\n",
      "[INFO] processed 1400/1635\n",
      "[INFO] processed 1500/1635\n",
      "[INFO] processed 1600/1635\n"
     ]
    }
   ],
   "source": [
    "#declear path to your mnist data folder\n",
    "img_path = r'D:\\Important Files\\Dataset Collection\\Image Classification\\Facial Expression\\CK+_Complete'\n",
    "\n",
    "#get the path list using the path object\n",
    "image_paths = list(paths.list_images(img_path))\n",
    "\n",
    "#apply our function\n",
    "image_list, label_list = load(image_paths, verbose=100)\n",
    "\n",
    "#binarize the labels\n",
    "lb = LabelBinarizer()\n",
    "label_list = lb.fit_transform(label_list)\n",
    "\n",
    "#split data into training and test set\n",
    "X_train, X_test, y_train, y_test = train_test_split(image_list, \n",
    "                                                    label_list, \n",
    "                                                    test_size=0.1, \n",
    "                                                    random_state=7)"
   ]
  },
  {
   "cell_type": "markdown",
   "id": "44e81e0c",
   "metadata": {},
   "source": [
    "## Creation of Local Clients & Data Distribution"
   ]
  },
  {
   "cell_type": "code",
   "execution_count": 5,
   "id": "988b71a7",
   "metadata": {},
   "outputs": [],
   "source": [
    "def create_clients(image_list, label_list, num_clients=3, initial='clients'):\n",
    "    ''' return: a dictionary with keys clients' names and value as \n",
    "                data shards - tuple of images and label lists.\n",
    "        args: \n",
    "            image_list: a list of numpy arrays of training images\n",
    "            label_list:a list of binarized labels for each image\n",
    "            num_client: number of fedrated members (clients)\n",
    "            initials: the clients'name prefix, e.g, clients_1 \n",
    "            \n",
    "    '''\n",
    "\n",
    "    #create a list of client names\n",
    "    client_names = ['{}_{}'.format(initial, i+1) for i in range(num_clients)]\n",
    "\n",
    "    #randomize the data\n",
    "    data = list(zip(image_list, label_list))\n",
    "    random.shuffle(data)\n",
    "\n",
    "    #shard data and place at each client\n",
    "    size = len(data)//num_clients\n",
    "    shards = [data[i:i + size] for i in range(0, size*num_clients, size)]\n",
    "\n",
    "    #number of clients must equal number of shards\n",
    "    assert(len(shards) == len(client_names))\n",
    "\n",
    "    return {client_names[i] : shards[i] for i in range(len(client_names))} "
   ]
  },
  {
   "cell_type": "code",
   "execution_count": 6,
   "id": "c95a6844",
   "metadata": {},
   "outputs": [],
   "source": [
    "#create clients\n",
    "clients = create_clients(X_train, y_train, num_clients=3, initial='client')"
   ]
  },
  {
   "cell_type": "code",
   "execution_count": 7,
   "id": "c262baac",
   "metadata": {},
   "outputs": [],
   "source": [
    "def batch_data(data_shard, bs=32):\n",
    "    '''Takes in a clients data shard and create a tfds object off it\n",
    "    args:\n",
    "        shard: a data, label constituting a client's data shard\n",
    "        bs:batch size\n",
    "    return:\n",
    "        tfds object'''\n",
    "    #seperate shard into data and labels lists\n",
    "    data, label = zip(*data_shard)\n",
    "    dataset = tf.data.Dataset.from_tensor_slices((list(data), list(label)))\n",
    "    return dataset.shuffle(len(label)).batch(bs)"
   ]
  },
  {
   "cell_type": "code",
   "execution_count": 8,
   "id": "fca979d0",
   "metadata": {},
   "outputs": [],
   "source": [
    "#process and batch the training data for each client\n",
    "clients_batched = dict()\n",
    "for (client_name, data) in clients.items():\n",
    "    clients_batched[client_name] = batch_data(data)\n",
    "    \n",
    "#process and batch the train set  \n",
    "train_batched = tf.data.Dataset.from_tensor_slices((X_train, y_train)).batch(len(y_train))\n",
    "#process and batch the test set  \n",
    "test_batched = tf.data.Dataset.from_tensor_slices((X_test, y_test)).batch(len(y_test))"
   ]
  },
  {
   "cell_type": "markdown",
   "id": "cda37d15",
   "metadata": {},
   "source": [
    "## Building CNN Model"
   ]
  },
  {
   "cell_type": "code",
   "execution_count": 16,
   "id": "57bfa405",
   "metadata": {},
   "outputs": [],
   "source": [
    "class CNNModel:\n",
    "    @staticmethod\n",
    "    def build(shape, classes):\n",
    "        model = Sequential()\n",
    "        model.add(Conv2D(32, (5, 5), activation='relu', kernel_initializer='he_uniform', padding='same', input_shape=shape))\n",
    "        model.add(BatchNormalization())\n",
    "        model.add(Conv2D(32, (5, 5), activation='relu', kernel_initializer='he_uniform', padding='same'))\n",
    "        model.add(BatchNormalization())\n",
    "        model.add(MaxPooling2D((2, 2)))\n",
    "        model.add(Dropout(0.1))\n",
    "        model.add(Conv2D(64, (5, 5), activation='relu', kernel_initializer='he_uniform', padding='same'))\n",
    "        model.add(BatchNormalization())\n",
    "        model.add(Conv2D(64, (5, 5), activation='relu', kernel_initializer='he_uniform', padding='same'))\n",
    "        model.add(BatchNormalization())\n",
    "        model.add(MaxPooling2D((2, 2)))\n",
    "        model.add(Dropout(0.2))\n",
    "        model.add(Conv2D(128, (3, 3), activation='relu', kernel_initializer='he_uniform', padding='same'))\n",
    "        model.add(BatchNormalization())\n",
    "        model.add(Conv2D(128, (3, 3), activation='relu', kernel_initializer='he_uniform', padding='same'))\n",
    "        model.add(BatchNormalization())\n",
    "        model.add(MaxPooling2D((2, 2)))\n",
    "        model.add(Dropout(0.3))\n",
    "        model.add(Conv2D(256, (3, 3), activation='relu', kernel_initializer='he_uniform', padding='same'))\n",
    "        model.add(BatchNormalization())\n",
    "        model.add(Conv2D(256, (3, 3), activation='relu', kernel_initializer='he_uniform', padding='same'))\n",
    "        model.add(BatchNormalization())\n",
    "        model.add(MaxPooling2D((2, 2)))\n",
    "        model.add(Dropout(0.4))\n",
    "        model.add(Flatten())\n",
    "        model.add(Dense(128, activation='relu', kernel_initializer='he_uniform'))\n",
    "        model.add(BatchNormalization())\n",
    "        model.add(Dropout(0.5))\n",
    "        model.add(Dense(classes))\n",
    "        model.add(Activation(\"softmax\"))\n",
    "        return model"
   ]
  },
  {
   "cell_type": "code",
   "execution_count": 17,
   "id": "3c0c3977",
   "metadata": {},
   "outputs": [],
   "source": [
    "lr = 0.001 \n",
    "comms_round = 20\n",
    "loss='categorical_crossentropy'\n",
    "metrics = ['accuracy']\n",
    "optimizer=tf.keras.optimizers.Adam(learning_rate=0.001, epsilon=0.001, amsgrad=True)"
   ]
  },
  {
   "cell_type": "markdown",
   "id": "5a6f30d3",
   "metadata": {},
   "source": [
    "## Training & Aggregating for Federated Implementation"
   ]
  },
  {
   "cell_type": "code",
   "execution_count": 18,
   "id": "9105ca16",
   "metadata": {},
   "outputs": [],
   "source": [
    "Accu = []\n",
    "Loss = []\n",
    "Tr_Accu = []\n",
    "Tr_Loss =[]"
   ]
  },
  {
   "cell_type": "code",
   "execution_count": 19,
   "id": "3bb94495",
   "metadata": {},
   "outputs": [
    {
     "name": "stdout",
     "output_type": "stream",
     "text": [
      "comm_round: 0 | global_training_acc: 5.642% | global_training_loss: 2.0271222591400146\n",
      "comm_round: 0 | global_acc: 4.268% | global_loss: 2.037933588027954\n",
      "comm_round: 1 | global_training_acc: 5.642% | global_training_loss: 1.9933056831359863\n",
      "comm_round: 1 | global_acc: 4.268% | global_loss: 2.007617235183716\n",
      "comm_round: 2 | global_training_acc: 5.642% | global_training_loss: 2.0659780502319336\n",
      "comm_round: 2 | global_acc: 4.268% | global_loss: 2.0801641941070557\n",
      "comm_round: 3 | global_training_acc: 34.534% | global_training_loss: 1.8026365041732788\n",
      "comm_round: 3 | global_acc: 26.829% | global_loss: 1.8339459896087646\n",
      "comm_round: 4 | global_training_acc: 70.700% | global_training_loss: 1.4934931993484497\n",
      "comm_round: 4 | global_acc: 60.976% | global_loss: 1.551643967628479\n",
      "comm_round: 5 | global_training_acc: 88.851% | global_training_loss: 1.311095952987671\n",
      "comm_round: 5 | global_acc: 81.098% | global_loss: 1.3915233612060547\n",
      "comm_round: 6 | global_training_acc: 97.077% | global_training_loss: 1.208794116973877\n",
      "comm_round: 6 | global_acc: 93.902% | global_loss: 1.2533941268920898\n",
      "comm_round: 7 | global_training_acc: 99.660% | global_training_loss: 1.1744006872177124\n",
      "comm_round: 7 | global_acc: 96.951% | global_loss: 1.2037372589111328\n",
      "comm_round: 8 | global_training_acc: 99.932% | global_training_loss: 1.1699930429458618\n",
      "comm_round: 8 | global_acc: 98.780% | global_loss: 1.1882855892181396\n",
      "comm_round: 9 | global_training_acc: 99.796% | global_training_loss: 1.1710522174835205\n",
      "comm_round: 9 | global_acc: 98.780% | global_loss: 1.1847944259643555\n",
      "comm_round: 10 | global_training_acc: 99.660% | global_training_loss: 1.1710349321365356\n",
      "comm_round: 10 | global_acc: 99.390% | global_loss: 1.1809512376785278\n",
      "comm_round: 11 | global_training_acc: 100.000% | global_training_loss: 1.166184425354004\n",
      "comm_round: 11 | global_acc: 99.390% | global_loss: 1.1714369058609009\n",
      "comm_round: 12 | global_training_acc: 100.000% | global_training_loss: 1.167637586593628\n",
      "comm_round: 12 | global_acc: 98.780% | global_loss: 1.1764086484909058\n",
      "comm_round: 13 | global_training_acc: 100.000% | global_training_loss: 1.1661648750305176\n",
      "comm_round: 13 | global_acc: 99.390% | global_loss: 1.1702510118484497\n",
      "comm_round: 14 | global_training_acc: 98.776% | global_training_loss: 1.1826467514038086\n",
      "comm_round: 14 | global_acc: 96.951% | global_loss: 1.2014217376708984\n",
      "comm_round: 15 | global_training_acc: 99.864% | global_training_loss: 1.1681209802627563\n",
      "comm_round: 15 | global_acc: 100.000% | global_loss: 1.1758627891540527\n",
      "comm_round: 16 | global_training_acc: 99.864% | global_training_loss: 1.1670877933502197\n",
      "comm_round: 16 | global_acc: 99.390% | global_loss: 1.1752270460128784\n",
      "comm_round: 17 | global_training_acc: 100.000% | global_training_loss: 1.1661176681518555\n",
      "comm_round: 17 | global_acc: 100.000% | global_loss: 1.1710093021392822\n",
      "comm_round: 18 | global_training_acc: 100.000% | global_training_loss: 1.1655640602111816\n",
      "comm_round: 18 | global_acc: 100.000% | global_loss: 1.165637493133545\n",
      "comm_round: 19 | global_training_acc: 100.000% | global_training_loss: 1.1654859781265259\n",
      "comm_round: 19 | global_acc: 100.000% | global_loss: 1.1660257577896118\n"
     ]
    }
   ],
   "source": [
    "#initialize global model\n",
    "mcnn_global = CNNModel()\n",
    "global_model = mcnn_global.build((69, 48, 1), 7)\n",
    "        \n",
    "#commence global training loop\n",
    "for comm_round in range(comms_round):\n",
    "            \n",
    "    # get the global model's weights - will serve as the initial weights for all local models\n",
    "    global_weights = global_model.get_weights()\n",
    "    \n",
    "    #initial list to collect local model weights after scalling\n",
    "    scaled_local_weight_list = list()\n",
    "\n",
    "    #randomize client data - using keys\n",
    "    client_names= list(clients_batched.keys())\n",
    "    random.shuffle(client_names)\n",
    "    \n",
    "    #loop through each client and create new local model\n",
    "    for client in client_names:\n",
    "        mcnn_local = CNNModel()\n",
    "        local_model = mcnn_local.build((69, 48, 1), 7)\n",
    "        local_model.compile(loss=loss, \n",
    "                      optimizer=optimizer, \n",
    "                      metrics=metrics)\n",
    "        \n",
    "        #set local model weight to the weight of the global model\n",
    "        local_model.set_weights(global_weights)\n",
    "        \n",
    "        #fit local model with client's data\n",
    "        local_model.fit(clients_batched[client], epochs=5, verbose=0)\n",
    "        \n",
    "        #scale the model weights and add to list\n",
    "        scaling_factor = weight_scalling_factor(clients_batched, client)\n",
    "        scaled_weights = scale_model_weights(local_model.get_weights(), scaling_factor)\n",
    "        scaled_local_weight_list.append(scaled_weights)\n",
    "        \n",
    "        #clear session to free memory after each communication round\n",
    "        K.clear_session()\n",
    "        \n",
    "    #to get the average over all the local model, we simply take the sum of the scaled weights\n",
    "    average_weights = sum_scaled_weights(scaled_local_weight_list)\n",
    "    \n",
    "    #update global model \n",
    "    global_model.set_weights(average_weights)\n",
    "\n",
    "    #test global model and print out metrics after each communications round\n",
    "    for(X_train, y_train) in train_batched:\n",
    "        global_train_acc, global_train_loss = test_train_model(X_train, y_train, global_model, comm_round)\n",
    "        Tr_Accu.append(global_train_acc)\n",
    "        Tr_Loss.append(global_train_loss)\n",
    "    for(X_test, y_test) in test_batched:\n",
    "        global_acc, global_loss = test_model(X_test, y_test, global_model, comm_round)\n",
    "        Accu.append(global_acc)\n",
    "        Loss.append(global_loss)"
   ]
  },
  {
   "cell_type": "markdown",
   "id": "a29f2196",
   "metadata": {},
   "source": [
    "## Evaluation"
   ]
  },
  {
   "cell_type": "code",
   "execution_count": 20,
   "id": "bee819ad",
   "metadata": {},
   "outputs": [
    {
     "data": {
      "image/png": "[encoded data removed]",
      "text/plain": [
       "<Figure size 432x288 with 2 Axes>"
      ]
     },
     "metadata": {
      "needs_background": "light"
     },
     "output_type": "display_data"
    }
   ],
   "source": [
    "from sklearn.metrics import confusion_matrix, ConfusionMatrixDisplay\n",
    "import matplotlib.pyplot as plt\n",
    "\n",
    "pred = global_model.predict(X_test)\n",
    "y_pred=np.argmax(pred,axis=1)\n",
    "rounded_labels=np.argmax(y_test, axis=1)\n",
    "Confusion_Matrix = confusion_matrix(rounded_labels, y_pred)\n",
    "Disp = ConfusionMatrixDisplay(Confusion_Matrix)\n",
    "Disp.plot()\n",
    "plt.show()"
   ]
  },
  {
   "cell_type": "code",
   "execution_count": 21,
   "id": "fd293d93",
   "metadata": {},
   "outputs": [
    {
     "name": "stdout",
     "output_type": "stream",
     "text": [
      "ROC_AUC Score: 1.0\n",
      "Cohen_Kappa Score: 1.0\n",
      "F1 Score: 1.0\n",
      "Matthews Correlation Coefficient: 1.0\n",
      "Log Loss: 0.0007602986914624977\n",
      "Accuracy: 1.0\n"
     ]
    }
   ],
   "source": [
    "from sklearn.metrics import roc_auc_score, cohen_kappa_score, f1_score, matthews_corrcoef, log_loss, accuracy_score\n",
    "\n",
    "y_pred_proba = global_model.predict(X_test)\n",
    "\n",
    "ROC_AUC = roc_auc_score(rounded_labels, y_pred_proba, multi_class='ovr')\n",
    "Cohen_Kappa = cohen_kappa_score(rounded_labels, y_pred)\n",
    "F1 = f1_score(rounded_labels, y_pred, average='macro')\n",
    "Matthews = matthews_corrcoef(rounded_labels, y_pred)\n",
    "Log = log_loss(rounded_labels, y_pred_proba)\n",
    "Accuracy = accuracy_score(rounded_labels, y_pred)\n",
    "\n",
    "print('ROC_AUC Score:', ROC_AUC)\n",
    "print('Cohen_Kappa Score:', Cohen_Kappa)\n",
    "print('F1 Score:', F1)\n",
    "print('Matthews Correlation Coefficient:', Matthews)\n",
    "print('Log Loss:', Log)\n",
    "print('Accuracy:', Accuracy)       "
   ]
  },
  {
   "cell_type": "code",
   "execution_count": 22,
   "id": "528654fb",
   "metadata": {},
   "outputs": [
    {
     "data": {
      "text/plain": [
       "Text(0, 0.5, 'Loss')"
      ]
     },
     "execution_count": 22,
     "metadata": {},
     "output_type": "execute_result"
    },
    {
     "data": {
      "image/png": "[encoded data removed]",
      "text/plain": [
       "<Figure size 432x288 with 1 Axes>"
      ]
     },
     "metadata": {
      "needs_background": "light"
     },
     "output_type": "display_data"
    },
    {
     "data": {
      "image/png": "[encoded data removed]",
      "text/plain": [
       "<Figure size 432x288 with 1 Axes>"
      ]
     },
     "metadata": {
      "needs_background": "light"
     },
     "output_type": "display_data"
    }
   ],
   "source": [
    "#-----------------------------------------------------------\n",
    "# Retrieve a list of list results on training and test data\n",
    "# sets for each training epoch\n",
    "#-----------------------------------------------------------\n",
    "acc      = Tr_Accu\n",
    "val_acc  = Accu\n",
    "loss     = Tr_Loss\n",
    "val_loss = Loss\n",
    "\n",
    "epochs   = range(len(acc)) # Get number of epochs\n",
    "\n",
    "#------------------------------------------------\n",
    "# Plot training and validation accuracy per epoch\n",
    "#------------------------------------------------\n",
    "plt.figure()\n",
    "plt.plot  ( epochs,     acc )\n",
    "plt.plot  ( epochs, val_acc, color = 'g')\n",
    "plt.title ('Training and Validation Accuracy with Federated Learning on CK+')\n",
    "plt.legend(['Training Accuracy','Validation Accuracy'])\n",
    "plt.xlabel('Comm. Rounds')\n",
    "plt.ylabel('Accuracy')\n",
    "\n",
    "#------------------------------------------------\n",
    "# Plot training and validation loss per epoch\n",
    "#------------------------------------------------\n",
    "plt.figure()\n",
    "plt.plot  ( epochs,     loss )\n",
    "plt.plot  ( epochs, val_loss, color = 'g' )\n",
    "plt.title ('Training and Validation Loss with Federated Learning on CK+')\n",
    "plt.legend(['Training Loss','Validation Loss'])\n",
    "plt.xlabel('Comm. Rounds')\n",
    "plt.ylabel('Loss')"
   ]
  },
  {
   "cell_type": "code",
   "execution_count": null,
   "id": "f2e4211a",
   "metadata": {},
   "outputs": [],
   "source": []
  }
 ],
 "metadata": {
  "kernelspec": {
   "display_name": "Python 3 (ipykernel)",
   "language": "python",
   "name": "python3"
  },
  "language_info": {
   "codemirror_mode": {
    "name": "ipython",
    "version": 3
   },
   "file_extension": ".py",
   "mimetype": "text/x-python",
   "name": "python",
   "nbconvert_exporter": "python",
   "pygments_lexer": "ipython3",
   "version": "3.9.7"
  }
 },
 "nbformat": 4,
 "nbformat_minor": 5
}
