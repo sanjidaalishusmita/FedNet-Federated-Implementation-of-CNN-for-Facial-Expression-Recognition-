{
 "cells": [
  {
   "cell_type": "markdown",
   "id": "432e978c",
   "metadata": {},
   "source": [
    "## Importing Packages"
   ]
  },
  {
   "cell_type": "code",
   "execution_count": 1,
   "id": "9b43d7a6",
   "metadata": {},
   "outputs": [],
   "source": [
    "import numpy as np\n",
    "import random\n",
    "import cv2\n",
    "import os\n",
    "from imutils import paths\n",
    "from sklearn.model_selection import train_test_split\n",
    "from sklearn.preprocessing import LabelBinarizer\n",
    "from sklearn.model_selection import train_test_split\n",
    "from sklearn.utils import shuffle\n",
    "from sklearn.metrics import accuracy_score\n",
    "\n",
    "import tensorflow as tf\n",
    "from tensorflow.keras.models import Sequential\n",
    "from tensorflow.keras.layers import Conv2D\n",
    "from tensorflow.keras.layers import MaxPooling2D\n",
    "from tensorflow.keras.layers import Activation\n",
    "from tensorflow.keras.layers import Flatten\n",
    "from tensorflow.keras.layers import Dense\n",
    "from tensorflow.keras.layers import BatchNormalization\n",
    "from tensorflow.keras.layers import Dropout\n",
    "from tensorflow.keras.optimizers import SGD\n",
    "from tensorflow.keras import backend as K"
   ]
  },
  {
   "cell_type": "code",
   "execution_count": 2,
   "id": "78744122",
   "metadata": {},
   "outputs": [],
   "source": [
    "from fl_mnist_implementation_utils import *"
   ]
  },
  {
   "cell_type": "markdown",
   "id": "43bc3c0e",
   "metadata": {},
   "source": [
    "## Loading Dataset & Data Preprocessing"
   ]
  },
  {
   "cell_type": "code",
   "execution_count": 3,
   "id": "0dcdde2e",
   "metadata": {},
   "outputs": [],
   "source": [
    "def load(paths, verbose=-1):\n",
    "    '''expects images for each class in seperate dir, \n",
    "    e.g all digits in 0 class in the directory named 0 '''\n",
    "    data = list()\n",
    "    labels = list()\n",
    "    # loop over the input images\n",
    "    for (i, imgpath) in enumerate(paths):\n",
    "        # load the image and extract the class labels\n",
    "        im_gray = cv2.imread(imgpath, cv2.IMREAD_GRAYSCALE)\n",
    "        im_gray_resized = cv2.resize(im_gray, (48,69), interpolation = cv2.INTER_AREA)\n",
    "        #image = np.array(im_gray).flatten()\n",
    "        label = imgpath.split(os.path.sep)[-2]\n",
    "        # scale the image to [0, 1] and add to list\n",
    "        data.append(im_gray_resized/255)\n",
    "        labels.append(label)\n",
    "        # show an update every `verbose` images\n",
    "        if verbose > 0 and i > 0 and (i + 1) % verbose == 0:\n",
    "            print(\"[INFO] processed {}/{}\".format(i + 1, len(paths)))\n",
    "    # return a tuple of the data and labels\n",
    "    return data, labels"
   ]
  },
  {
   "cell_type": "code",
   "execution_count": 4,
   "id": "2dbb8b81",
   "metadata": {},
   "outputs": [
    {
     "name": "stdout",
     "output_type": "stream",
     "text": [
      "[INFO] processed 100/2228\n",
      "[INFO] processed 200/2228\n",
      "[INFO] processed 300/2228\n",
      "[INFO] processed 400/2228\n",
      "[INFO] processed 500/2228\n",
      "[INFO] processed 600/2228\n",
      "[INFO] processed 700/2228\n",
      "[INFO] processed 800/2228\n",
      "[INFO] processed 900/2228\n",
      "[INFO] processed 1000/2228\n",
      "[INFO] processed 1100/2228\n",
      "[INFO] processed 1200/2228\n",
      "[INFO] processed 1300/2228\n",
      "[INFO] processed 1400/2228\n",
      "[INFO] processed 1500/2228\n",
      "[INFO] processed 1600/2228\n",
      "[INFO] processed 1700/2228\n",
      "[INFO] processed 1800/2228\n",
      "[INFO] processed 1900/2228\n",
      "[INFO] processed 2000/2228\n",
      "[INFO] processed 2100/2228\n",
      "[INFO] processed 2200/2228\n"
     ]
    }
   ],
   "source": [
    "#declear path to your mnist data folder\n",
    "img_path = r'D:\\Important Files\\Dataset Collection\\Image Classification\\Facial Expression\\CK+ Modified'\n",
    "\n",
    "#get the path list using the path object\n",
    "image_paths = list(paths.list_images(img_path))\n",
    "\n",
    "#apply our function\n",
    "image_list, label_list = load(image_paths, verbose=100)\n",
    "\n",
    "#binarize the labels\n",
    "lb = LabelBinarizer()\n",
    "label_list = lb.fit_transform(label_list)\n",
    "\n",
    "#split data into training and test set\n",
    "X_train, X_test, y_train, y_test = train_test_split(image_list, \n",
    "                                                    label_list, \n",
    "                                                    test_size=0.1, \n",
    "                                                    random_state=7)"
   ]
  },
  {
   "cell_type": "markdown",
   "id": "d353e1c2",
   "metadata": {},
   "source": [
    "## Creation of Local Clients & Data Distribution"
   ]
  },
  {
   "cell_type": "code",
   "execution_count": 5,
   "id": "988b71a7",
   "metadata": {},
   "outputs": [],
   "source": [
    "def create_clients(image_list, label_list, num_clients=3, initial='clients'):\n",
    "    ''' return: a dictionary with keys clients' names and value as \n",
    "                data shards - tuple of images and label lists.\n",
    "        args: \n",
    "            image_list: a list of numpy arrays of training images\n",
    "            label_list:a list of binarized labels for each image\n",
    "            num_client: number of fedrated members (clients)\n",
    "            initials: the clients'name prefix, e.g, clients_1 \n",
    "            \n",
    "    '''\n",
    "\n",
    "    #create a list of client names\n",
    "    client_names = ['{}_{}'.format(initial, i+1) for i in range(num_clients)]\n",
    "\n",
    "    #randomize the data\n",
    "    data = list(zip(image_list, label_list))\n",
    "    random.shuffle(data)\n",
    "\n",
    "    #shard data and place at each client\n",
    "    size = len(data)//num_clients\n",
    "    shards = [data[i:i + size] for i in range(0, size*num_clients, size)]\n",
    "\n",
    "    #number of clients must equal number of shards\n",
    "    assert(len(shards) == len(client_names))\n",
    "\n",
    "    return {client_names[i] : shards[i] for i in range(len(client_names))} "
   ]
  },
  {
   "cell_type": "code",
   "execution_count": 6,
   "id": "c95a6844",
   "metadata": {},
   "outputs": [],
   "source": [
    "#create clients\n",
    "clients = create_clients(X_train, y_train, num_clients=3, initial='client')"
   ]
  },
  {
   "cell_type": "code",
   "execution_count": 7,
   "id": "c262baac",
   "metadata": {},
   "outputs": [],
   "source": [
    "def batch_data(data_shard, bs=32):\n",
    "    '''Takes in a clients data shard and create a tfds object off it\n",
    "    args:\n",
    "        shard: a data, label constituting a client's data shard\n",
    "        bs:batch size\n",
    "    return:\n",
    "        tfds object'''\n",
    "    #seperate shard into data and labels lists\n",
    "    data, label = zip(*data_shard)\n",
    "    dataset = tf.data.Dataset.from_tensor_slices((list(data), list(label)))\n",
    "    return dataset.shuffle(len(label)).batch(bs)"
   ]
  },
  {
   "cell_type": "code",
   "execution_count": 8,
   "id": "fca979d0",
   "metadata": {},
   "outputs": [],
   "source": [
    "#process and batch the training data for each client\n",
    "clients_batched = dict()\n",
    "for (client_name, data) in clients.items():\n",
    "    clients_batched[client_name] = batch_data(data)\n",
    "    \n",
    "#process and batch the train set  \n",
    "train_batched = tf.data.Dataset.from_tensor_slices((X_train, y_train)).batch(len(y_train))\n",
    "#process and batch the test set  \n",
    "test_batched = tf.data.Dataset.from_tensor_slices((X_test, y_test)).batch(len(y_test))"
   ]
  },
  {
   "cell_type": "markdown",
   "id": "6afca7e0",
   "metadata": {},
   "source": [
    "## Building CNN Model "
   ]
  },
  {
   "cell_type": "code",
   "execution_count": 9,
   "id": "a52de18b",
   "metadata": {},
   "outputs": [],
   "source": [
    "class CNNModel:\n",
    "    @staticmethod\n",
    "    def build(shape, classes):\n",
    "        model = Sequential()\n",
    "        model.add(Conv2D(32, (5, 5), activation='relu', kernel_initializer='he_uniform', padding='same', input_shape=shape))\n",
    "        model.add(BatchNormalization())\n",
    "        model.add(Conv2D(32, (5, 5), activation='relu', kernel_initializer='he_uniform', padding='same'))\n",
    "        model.add(BatchNormalization())\n",
    "        model.add(MaxPooling2D((2, 2)))\n",
    "        model.add(Dropout(0.1))\n",
    "        model.add(Conv2D(64, (5, 5), activation='relu', kernel_initializer='he_uniform', padding='same'))\n",
    "        model.add(BatchNormalization())\n",
    "        model.add(Conv2D(64, (5, 5), activation='relu', kernel_initializer='he_uniform', padding='same'))\n",
    "        model.add(BatchNormalization())\n",
    "        model.add(MaxPooling2D((2, 2)))\n",
    "        model.add(Dropout(0.2))\n",
    "        model.add(Conv2D(128, (3, 3), activation='relu', kernel_initializer='he_uniform', padding='same'))\n",
    "        model.add(BatchNormalization())\n",
    "        model.add(Conv2D(128, (3, 3), activation='relu', kernel_initializer='he_uniform', padding='same'))\n",
    "        model.add(BatchNormalization())\n",
    "        model.add(MaxPooling2D((2, 2)))\n",
    "        model.add(Dropout(0.3))\n",
    "        model.add(Conv2D(256, (3, 3), activation='relu', kernel_initializer='he_uniform', padding='same'))\n",
    "        model.add(BatchNormalization())\n",
    "        model.add(Conv2D(256, (3, 3), activation='relu', kernel_initializer='he_uniform', padding='same'))\n",
    "        model.add(BatchNormalization())\n",
    "        model.add(MaxPooling2D((2, 2)))\n",
    "        model.add(Dropout(0.4))\n",
    "        model.add(Flatten())\n",
    "        model.add(Dense(128, activation='relu', kernel_initializer='he_uniform'))\n",
    "        model.add(BatchNormalization())\n",
    "        model.add(Dropout(0.5))\n",
    "        model.add(Dense(classes))\n",
    "        model.add(Activation(\"softmax\"))\n",
    "        return model"
   ]
  },
  {
   "cell_type": "code",
   "execution_count": 10,
   "id": "6436da69",
   "metadata": {},
   "outputs": [],
   "source": [
    "lr = 0.001 \n",
    "comms_round = 35\n",
    "loss='categorical_crossentropy'\n",
    "metrics = ['accuracy']\n",
    "optimizer=tf.keras.optimizers.Adam(learning_rate=0.001, epsilon=0.001, amsgrad=True)"
   ]
  },
  {
   "cell_type": "markdown",
   "id": "e03e2b0e",
   "metadata": {},
   "source": [
    "## Training & Aggregating for Federated Implementation"
   ]
  },
  {
   "cell_type": "code",
   "execution_count": 11,
   "id": "c6596a31",
   "metadata": {},
   "outputs": [],
   "source": [
    "Accu = []\n",
    "Loss = []\n",
    "Tr_Accu = []\n",
    "Tr_Loss =[]"
   ]
  },
  {
   "cell_type": "code",
   "execution_count": 12,
   "id": "2cd4f5a4",
   "metadata": {},
   "outputs": [
    {
     "name": "stdout",
     "output_type": "stream",
     "text": [
      "comm_round: 0 | global_training_acc: 4.090% | global_training_loss: 2.0847489833831787\n",
      "comm_round: 0 | global_acc: 3.587% | global_loss: 2.0840165615081787\n",
      "comm_round: 1 | global_training_acc: 21.496% | global_training_loss: 2.0719497203826904\n",
      "comm_round: 1 | global_acc: 19.283% | global_loss: 2.0717103481292725\n",
      "comm_round: 2 | global_training_acc: 20.000% | global_training_loss: 2.0637905597686768\n",
      "comm_round: 2 | global_acc: 21.525% | global_loss: 2.063249111175537\n",
      "comm_round: 3 | global_training_acc: 52.768% | global_training_loss: 1.8430747985839844\n",
      "comm_round: 3 | global_acc: 49.776% | global_loss: 1.8573408126831055\n",
      "comm_round: 4 | global_training_acc: 82.045% | global_training_loss: 1.5306155681610107\n",
      "comm_round: 4 | global_acc: 73.991% | global_loss: 1.578167200088501\n",
      "comm_round: 5 | global_training_acc: 82.195% | global_training_loss: 1.4723765850067139\n",
      "comm_round: 5 | global_acc: 75.336% | global_loss: 1.5238102674484253\n",
      "comm_round: 6 | global_training_acc: 93.416% | global_training_loss: 1.3657156229019165\n",
      "comm_round: 6 | global_acc: 90.583% | global_loss: 1.4017999172210693\n",
      "comm_round: 7 | global_training_acc: 94.364% | global_training_loss: 1.358843207359314\n",
      "comm_round: 7 | global_acc: 91.480% | global_loss: 1.3937898874282837\n",
      "comm_round: 8 | global_training_acc: 98.155% | global_training_loss: 1.3056542873382568\n",
      "comm_round: 8 | global_acc: 96.413% | global_loss: 1.3274182081222534\n",
      "comm_round: 9 | global_training_acc: 98.105% | global_training_loss: 1.2981622219085693\n",
      "comm_round: 9 | global_acc: 95.516% | global_loss: 1.322208046913147\n",
      "comm_round: 10 | global_training_acc: 98.853% | global_training_loss: 1.2902226448059082\n",
      "comm_round: 10 | global_acc: 96.861% | global_loss: 1.3137671947479248\n",
      "comm_round: 11 | global_training_acc: 99.002% | global_training_loss: 1.2874610424041748\n",
      "comm_round: 11 | global_acc: 97.758% | global_loss: 1.305119276046753\n",
      "comm_round: 12 | global_training_acc: 99.152% | global_training_loss: 1.2847167253494263\n",
      "comm_round: 12 | global_acc: 96.861% | global_loss: 1.306381344795227\n",
      "comm_round: 13 | global_training_acc: 99.252% | global_training_loss: 1.2849587202072144\n",
      "comm_round: 13 | global_acc: 97.758% | global_loss: 1.2980512380599976\n",
      "comm_round: 14 | global_training_acc: 99.102% | global_training_loss: 1.288185477256775\n",
      "comm_round: 14 | global_acc: 96.861% | global_loss: 1.3086882829666138\n",
      "comm_round: 15 | global_training_acc: 99.152% | global_training_loss: 1.284755825996399\n",
      "comm_round: 15 | global_acc: 97.309% | global_loss: 1.3053686618804932\n",
      "comm_round: 16 | global_training_acc: 99.651% | global_training_loss: 1.2815611362457275\n",
      "comm_round: 16 | global_acc: 98.206% | global_loss: 1.296185851097107\n",
      "comm_round: 17 | global_training_acc: 98.005% | global_training_loss: 1.2972711324691772\n",
      "comm_round: 17 | global_acc: 96.413% | global_loss: 1.316259741783142\n",
      "comm_round: 18 | global_training_acc: 99.501% | global_training_loss: 1.2808983325958252\n",
      "comm_round: 18 | global_acc: 97.758% | global_loss: 1.297559380531311\n",
      "comm_round: 19 | global_training_acc: 99.751% | global_training_loss: 1.278308391571045\n",
      "comm_round: 19 | global_acc: 97.758% | global_loss: 1.2946006059646606\n",
      "comm_round: 20 | global_training_acc: 99.451% | global_training_loss: 1.2819210290908813\n",
      "comm_round: 20 | global_acc: 98.206% | global_loss: 1.2916383743286133\n",
      "comm_round: 21 | global_training_acc: 99.601% | global_training_loss: 1.278874158859253\n",
      "comm_round: 21 | global_acc: 97.758% | global_loss: 1.2919801473617554\n",
      "comm_round: 22 | global_training_acc: 99.451% | global_training_loss: 1.2801271677017212\n",
      "comm_round: 22 | global_acc: 98.206% | global_loss: 1.2963449954986572\n",
      "comm_round: 23 | global_training_acc: 99.601% | global_training_loss: 1.2794313430786133\n",
      "comm_round: 23 | global_acc: 98.206% | global_loss: 1.291058897972107\n",
      "comm_round: 24 | global_training_acc: 99.601% | global_training_loss: 1.2790359258651733\n",
      "comm_round: 24 | global_acc: 97.309% | global_loss: 1.300540804862976\n",
      "comm_round: 25 | global_training_acc: 99.701% | global_training_loss: 1.2774299383163452\n",
      "comm_round: 25 | global_acc: 98.206% | global_loss: 1.2921549081802368\n",
      "comm_round: 26 | global_training_acc: 99.751% | global_training_loss: 1.2772424221038818\n",
      "comm_round: 26 | global_acc: 97.758% | global_loss: 1.2968323230743408\n",
      "comm_round: 27 | global_training_acc: 99.751% | global_training_loss: 1.2781381607055664\n",
      "comm_round: 27 | global_acc: 98.206% | global_loss: 1.293408751487732\n",
      "comm_round: 28 | global_training_acc: 99.701% | global_training_loss: 1.277740716934204\n",
      "comm_round: 28 | global_acc: 97.758% | global_loss: 1.2930530309677124\n",
      "comm_round: 29 | global_training_acc: 99.800% | global_training_loss: 1.2766985893249512\n",
      "comm_round: 29 | global_acc: 97.758% | global_loss: 1.2942904233932495\n",
      "comm_round: 30 | global_training_acc: 99.601% | global_training_loss: 1.2783840894699097\n",
      "comm_round: 30 | global_acc: 98.206% | global_loss: 1.295006275177002\n",
      "comm_round: 31 | global_training_acc: 99.401% | global_training_loss: 1.2799313068389893\n",
      "comm_round: 31 | global_acc: 98.206% | global_loss: 1.290574312210083\n",
      "comm_round: 32 | global_training_acc: 99.850% | global_training_loss: 1.276479959487915\n",
      "comm_round: 32 | global_acc: 99.103% | global_loss: 1.2903321981430054\n",
      "comm_round: 33 | global_training_acc: 99.751% | global_training_loss: 1.2770459651947021\n",
      "comm_round: 33 | global_acc: 98.206% | global_loss: 1.293835163116455\n",
      "comm_round: 34 | global_training_acc: 99.701% | global_training_loss: 1.2774970531463623\n",
      "comm_round: 34 | global_acc: 99.103% | global_loss: 1.2853375673294067\n"
     ]
    }
   ],
   "source": [
    "#initialize global model\n",
    "mcnn_global = CNNModel()\n",
    "global_model = mcnn_global.build((69, 48, 1), 8)\n",
    "        \n",
    "#commence global training loop\n",
    "for comm_round in range(comms_round):\n",
    "            \n",
    "    # get the global model's weights - will serve as the initial weights for all local models\n",
    "    global_weights = global_model.get_weights()\n",
    "    \n",
    "    #initial list to collect local model weights after scalling\n",
    "    scaled_local_weight_list = list()\n",
    "\n",
    "    #randomize client data - using keys\n",
    "    client_names= list(clients_batched.keys())\n",
    "    random.shuffle(client_names)\n",
    "    \n",
    "    #loop through each client and create new local model\n",
    "    for client in client_names:\n",
    "        mcnn_local = CNNModel()\n",
    "        local_model = mcnn_local.build((69, 48, 1), 8)\n",
    "        local_model.compile(loss=loss, \n",
    "                      optimizer=optimizer, \n",
    "                      metrics=metrics)\n",
    "        \n",
    "        #set local model weight to the weight of the global model\n",
    "        local_model.set_weights(global_weights)\n",
    "        \n",
    "        #fit local model with client's data\n",
    "        local_model.fit(clients_batched[client], epochs=5, verbose=0)\n",
    "        \n",
    "        #scale the model weights and add to list\n",
    "        scaling_factor = weight_scalling_factor(clients_batched, client)\n",
    "        scaled_weights = scale_model_weights(local_model.get_weights(), scaling_factor)\n",
    "        scaled_local_weight_list.append(scaled_weights)\n",
    "        \n",
    "        #clear session to free memory after each communication round\n",
    "        K.clear_session()\n",
    "        \n",
    "    #to get the average over all the local model, we simply take the sum of the scaled weights\n",
    "    average_weights = sum_scaled_weights(scaled_local_weight_list)\n",
    "    \n",
    "    #update global model \n",
    "    global_model.set_weights(average_weights)\n",
    "\n",
    "    #test global model and print out metrics after each communications round\n",
    "    for(X_train, y_train) in train_batched:\n",
    "        global_train_acc, global_train_loss = test_train_model(X_train, y_train, global_model, comm_round)\n",
    "        Tr_Accu.append(global_train_acc)\n",
    "        Tr_Loss.append(global_train_loss)\n",
    "    for(X_test, y_test) in test_batched:\n",
    "        global_acc, global_loss = test_model(X_test, y_test, global_model, comm_round)\n",
    "        Accu.append(global_acc)\n",
    "        Loss.append(global_loss)"
   ]
  },
  {
   "cell_type": "markdown",
   "id": "c7fc8d96",
   "metadata": {},
   "source": [
    "## Evaluation"
   ]
  },
  {
   "cell_type": "code",
   "execution_count": 13,
   "id": "d1a9fd9e",
   "metadata": {},
   "outputs": [
    {
     "data": {
      "image/png": "[encoded data removed]",
      "text/plain": [
       "<Figure size 432x288 with 2 Axes>"
      ]
     },
     "metadata": {
      "needs_background": "light"
     },
     "output_type": "display_data"
    }
   ],
   "source": [
    "from sklearn.metrics import confusion_matrix, ConfusionMatrixDisplay\n",
    "import matplotlib.pyplot as plt\n",
    "\n",
    "pred = global_model.predict(X_test)\n",
    "y_pred=np.argmax(pred,axis=1)\n",
    "rounded_labels=np.argmax(y_test, axis=1)\n",
    "Confusion_Matrix = confusion_matrix(rounded_labels, y_pred)\n",
    "Disp = ConfusionMatrixDisplay(Confusion_Matrix)\n",
    "Disp.plot()\n",
    "plt.show()"
   ]
  },
  {
   "cell_type": "code",
   "execution_count": 14,
   "id": "013206cd",
   "metadata": {},
   "outputs": [
    {
     "name": "stdout",
     "output_type": "stream",
     "text": [
      "ROC_AUC Score: 0.9993081236062499\n",
      "Cohen_Kappa Score: 0.9893505253104107\n",
      "F1 Score: 0.9936437083845795\n",
      "Matthews Correlation Coefficient: 0.9893741834639721\n",
      "Log Loss: 0.060389220973294175\n",
      "Accuracy: 0.9910313901345291\n"
     ]
    }
   ],
   "source": [
    "from sklearn.metrics import roc_auc_score, cohen_kappa_score, f1_score, matthews_corrcoef, log_loss, accuracy_score\n",
    "\n",
    "y_pred_proba = global_model.predict(X_test)\n",
    "\n",
    "ROC_AUC = roc_auc_score(rounded_labels, y_pred_proba, multi_class='ovr')\n",
    "Cohen_Kappa = cohen_kappa_score(rounded_labels, y_pred)\n",
    "F1 = f1_score(rounded_labels, y_pred, average='macro')\n",
    "Matthews = matthews_corrcoef(rounded_labels, y_pred)\n",
    "Log = log_loss(rounded_labels, y_pred_proba)\n",
    "Accuracy = accuracy_score(rounded_labels, y_pred)\n",
    "\n",
    "print('ROC_AUC Score:', ROC_AUC)\n",
    "print('Cohen_Kappa Score:', Cohen_Kappa)\n",
    "print('F1 Score:', F1)\n",
    "print('Matthews Correlation Coefficient:', Matthews)\n",
    "print('Log Loss:', Log)\n",
    "print('Accuracy:', Accuracy)       "
   ]
  },
  {
   "cell_type": "code",
   "execution_count": 17,
   "id": "256c48e4",
   "metadata": {},
   "outputs": [
    {
     "data": {
      "text/plain": [
       "Text(0, 0.5, 'Loss')"
      ]
     },
     "execution_count": 17,
     "metadata": {},
     "output_type": "execute_result"
    },
    {
     "data": {
      "image/png": "[encoded data removed]",
      "text/plain": [
       "<Figure size 432x288 with 1 Axes>"
      ]
     },
     "metadata": {
      "needs_background": "light"
     },
     "output_type": "display_data"
    },
    {
     "data": {
      "image/png": "[encoded data removed]",
      "text/plain": [
       "<Figure size 432x288 with 1 Axes>"
      ]
     },
     "metadata": {
      "needs_background": "light"
     },
     "output_type": "display_data"
    }
   ],
   "source": [
    "#-----------------------------------------------------------\n",
    "# Retrieve a list of list results on training and test data\n",
    "# sets for each training epoch\n",
    "#-----------------------------------------------------------\n",
    "acc      = Tr_Accu\n",
    "val_acc  = Accu\n",
    "loss     = Tr_Loss\n",
    "val_loss = Loss\n",
    "\n",
    "epochs   = range(len(acc)) # Get number of epochs\n",
    "\n",
    "#------------------------------------------------\n",
    "# Plot training and validation accuracy per epoch\n",
    "#------------------------------------------------\n",
    "plt.figure()\n",
    "plt.plot  ( epochs,     acc )\n",
    "plt.plot  ( epochs, val_acc, color = 'g')\n",
    "plt.title ('Training and Validation Accuracy with Federated Learning on CK+')\n",
    "plt.legend(['Training Accuracy','Validation Accuracy'])\n",
    "plt.xlabel('Comm. Rounds')\n",
    "plt.ylabel('Accuracy')\n",
    "\n",
    "#------------------------------------------------\n",
    "# Plot training and validation loss per epoch\n",
    "#------------------------------------------------\n",
    "plt.figure()\n",
    "plt.plot  ( epochs,     loss )\n",
    "plt.plot  ( epochs, val_loss, color = 'g' )\n",
    "plt.title ('Training and Validation Loss with Federated Learning on CK+')\n",
    "plt.legend(['Training Loss','Validation Loss'])\n",
    "plt.xlabel('Comm. Rounds')\n",
    "plt.ylabel('Loss')"
   ]
  },
  {
   "cell_type": "code",
   "execution_count": null,
   "id": "99eecd62",
   "metadata": {},
   "outputs": [],
   "source": []
  }
 ],
 "metadata": {
  "kernelspec": {
   "display_name": "Python 3 (ipykernel)",
   "language": "python",
   "name": "python3"
  },
  "language_info": {
   "codemirror_mode": {
    "name": "ipython",
    "version": 3
   },
   "file_extension": ".py",
   "mimetype": "text/x-python",
   "name": "python",
   "nbconvert_exporter": "python",
   "pygments_lexer": "ipython3",
   "version": "3.9.7"
  }
 },
 "nbformat": 4,
 "nbformat_minor": 5
}
