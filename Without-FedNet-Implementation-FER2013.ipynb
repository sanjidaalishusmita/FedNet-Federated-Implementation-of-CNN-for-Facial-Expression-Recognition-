{
 "cells": [
  {
   "cell_type": "code",
   "execution_count": 1,
   "id": "9b43d7a6",
   "metadata": {},
   "outputs": [],
   "source": [
    "import numpy as np\n",
    "import random\n",
    "import cv2\n",
    "import os\n",
    "from imutils import paths\n",
    "from sklearn.model_selection import train_test_split\n",
    "from sklearn.preprocessing import LabelBinarizer\n",
    "from sklearn.model_selection import train_test_split\n",
    "from sklearn.utils import shuffle\n",
    "from sklearn.metrics import accuracy_score\n",
    "\n",
    "import tensorflow as tf\n",
    "from tensorflow.keras.models import Sequential\n",
    "from tensorflow.keras.layers import Conv2D\n",
    "from tensorflow.keras.layers import MaxPooling2D\n",
    "from tensorflow.keras.layers import Activation\n",
    "from tensorflow.keras.layers import Flatten\n",
    "from tensorflow.keras.layers import Dense\n",
    "from tensorflow.keras.optimizers import SGD\n",
    "from tensorflow.keras import backend as K"
   ]
  },
  {
   "cell_type": "code",
   "execution_count": 2,
   "id": "78744122",
   "metadata": {},
   "outputs": [],
   "source": [
    "from fl_mnist_implementation_tutorial_utils import *"
   ]
  },
  {
   "cell_type": "code",
   "execution_count": 3,
   "id": "0dcdde2e",
   "metadata": {},
   "outputs": [],
   "source": [
    "def load(paths, verbose=-1):\n",
    "    '''expects images for each class in seperate dir, \n",
    "    e.g all digits in 0 class in the directory named 0 '''\n",
    "    data = list()\n",
    "    labels = list()\n",
    "    # loop over the input images\n",
    "    for (i, imgpath) in enumerate(paths):\n",
    "        # load the image and extract the class labels\n",
    "        im_gray = cv2.imread(imgpath, cv2.IMREAD_GRAYSCALE)\n",
    "        im_gray_resized = cv2.resize(im_gray, (48,48), interpolation = cv2.INTER_AREA)\n",
    "        #image = np.array(im_gray).flatten()\n",
    "        label = imgpath.split(os.path.sep)[-2]\n",
    "        # scale the image to [0, 1] and add to list\n",
    "        data.append(im_gray_resized/255)\n",
    "        labels.append(label)\n",
    "        # show an update every `verbose` images\n",
    "        if verbose > 0 and i > 0 and (i + 1) % verbose == 0:\n",
    "            print(\"[INFO] processed {}/{}\".format(i + 1, len(paths)))\n",
    "    # return a tuple of the data and labels\n",
    "    return data, labels"
   ]
  },
  {
   "cell_type": "code",
   "execution_count": 4,
   "id": "2dbb8b81",
   "metadata": {},
   "outputs": [
    {
     "name": "stdout",
     "output_type": "stream",
     "text": [
      "[INFO] processed 1000/28709\n",
      "[INFO] processed 2000/28709\n",
      "[INFO] processed 3000/28709\n",
      "[INFO] processed 4000/28709\n",
      "[INFO] processed 5000/28709\n",
      "[INFO] processed 6000/28709\n",
      "[INFO] processed 7000/28709\n",
      "[INFO] processed 8000/28709\n",
      "[INFO] processed 9000/28709\n",
      "[INFO] processed 10000/28709\n",
      "[INFO] processed 11000/28709\n",
      "[INFO] processed 12000/28709\n",
      "[INFO] processed 13000/28709\n",
      "[INFO] processed 14000/28709\n",
      "[INFO] processed 15000/28709\n",
      "[INFO] processed 16000/28709\n",
      "[INFO] processed 17000/28709\n",
      "[INFO] processed 18000/28709\n",
      "[INFO] processed 19000/28709\n",
      "[INFO] processed 20000/28709\n",
      "[INFO] processed 21000/28709\n",
      "[INFO] processed 22000/28709\n",
      "[INFO] processed 23000/28709\n",
      "[INFO] processed 24000/28709\n",
      "[INFO] processed 25000/28709\n",
      "[INFO] processed 26000/28709\n",
      "[INFO] processed 27000/28709\n",
      "[INFO] processed 28000/28709\n"
     ]
    }
   ],
   "source": [
    "#declear path to your mnist data folder\n",
    "img_path = r'D:\\Important Files\\Dataset Collection\\Image Classification\\Facial Expression\\FER\\train'\n",
    "\n",
    "#get the path list using the path object\n",
    "image_paths = list(paths.list_images(img_path))\n",
    "\n",
    "#apply our function\n",
    "image_list, label_list = load(image_paths, verbose=1000)\n",
    "\n",
    "#binarize the labels\n",
    "lb = LabelBinarizer()\n",
    "label_list = lb.fit_transform(label_list)\n",
    "\n",
    "#split data into training and test set\n",
    "X_train, X_test, y_train, y_test = train_test_split(image_list, \n",
    "                                                    label_list, \n",
    "                                                    test_size=0.1, \n",
    "                                                    random_state=8)"
   ]
  },
  {
   "cell_type": "code",
   "execution_count": 5,
   "id": "3d611ee5",
   "metadata": {},
   "outputs": [],
   "source": [
    "X_train = tf.stack(X_train)\n",
    "y_train = tf.stack(y_train)\n",
    "X_test = tf.stack(X_test)\n",
    "y_test = tf.stack(y_test)"
   ]
  },
  {
   "cell_type": "code",
   "execution_count": 42,
   "id": "988b71a7",
   "metadata": {},
   "outputs": [],
   "source": [
    "batch_size = 128\n",
    "num_classes = 7\n",
    "epochs = 75\n",
    "input_shape = (48,48,1)\n",
    "\n",
    "model = tf.keras.models.Sequential([\n",
    "    # Note the input shape is the desired size of the image 48X48 with 1 byte color\n",
    "    tf.keras.layers.Conv2D(32, (5,5), activation='relu', kernel_initializer='he_uniform', padding='same', input_shape=input_shape),\n",
    "    tf.keras.layers.BatchNormalization(),\n",
    "    tf.keras.layers.Conv2D(32, (5,5), activation='relu', kernel_initializer='he_uniform', padding='same'),\n",
    "    tf.keras.layers.BatchNormalization(),\n",
    "    tf.keras.layers.MaxPooling2D(2,2),\n",
    "    tf.keras.layers.Dropout(0.1),\n",
    "    \n",
    "    tf.keras.layers.Conv2D(64, (5,5), activation='relu', kernel_initializer='he_uniform', padding='same'),\n",
    "    tf.keras.layers.BatchNormalization(),\n",
    "    tf.keras.layers.Conv2D(64, (5,5), activation='relu', kernel_initializer='he_uniform', padding='same'),\n",
    "    tf.keras.layers.BatchNormalization(),\n",
    "    tf.keras.layers.MaxPooling2D(2,2),\n",
    "    tf.keras.layers.Dropout(0.2),\n",
    "    \n",
    "    tf.keras.layers.Conv2D(128, (3,3), activation='relu', kernel_initializer='he_uniform', padding='same'),\n",
    "    tf.keras.layers.BatchNormalization(),\n",
    "    tf.keras.layers.Conv2D(128, (3,3), activation='relu', kernel_initializer='he_uniform', padding='same'),\n",
    "    tf.keras.layers.BatchNormalization(),\n",
    "    tf.keras.layers.MaxPooling2D(2,2),\n",
    "    tf.keras.layers.Dropout(0.3),\n",
    "    \n",
    "    tf.keras.layers.Conv2D(256, (3,3), activation='relu', kernel_initializer='he_uniform', padding='same'),\n",
    "    tf.keras.layers.BatchNormalization(),\n",
    "    tf.keras.layers.Conv2D(256, (3,3), activation='relu', kernel_initializer='he_uniform', padding='same'),\n",
    "    tf.keras.layers.BatchNormalization(),\n",
    "    tf.keras.layers.MaxPooling2D(2,2),\n",
    "    tf.keras.layers.Dropout(0.4),\n",
    "    \n",
    "    # Flatten the results to feed into a DNN\n",
    "    tf.keras.layers.Flatten(), \n",
    "    # 256 neuron hidden layer\n",
    "    tf.keras.layers.Dense(128, activation='relu',  kernel_initializer='he_uniform'), \n",
    "    tf.keras.layers.BatchNormalization(),\n",
    "    tf.keras.layers.Dropout(0.5),\n",
    "    # 8 output neuron. It will contain a value from 0-7 for each classes\n",
    "    tf.keras.layers.Dense(num_classes, activation='softmax')    \n",
    "])\n"
   ]
  },
  {
   "cell_type": "code",
   "execution_count": 43,
   "id": "c95a6844",
   "metadata": {},
   "outputs": [
    {
     "name": "stdout",
     "output_type": "stream",
     "text": [
      "Model: \"sequential_8\"\n",
      "_________________________________________________________________\n",
      " Layer (type)                Output Shape              Param #   \n",
      "=================================================================\n",
      " conv2d_65 (Conv2D)          (None, 48, 48, 32)        832       \n",
      "                                                                 \n",
      " batch_normalization_73 (Bat  (None, 48, 48, 32)       128       \n",
      " chNormalization)                                                \n",
      "                                                                 \n",
      " conv2d_66 (Conv2D)          (None, 48, 48, 32)        25632     \n",
      "                                                                 \n",
      " batch_normalization_74 (Bat  (None, 48, 48, 32)       128       \n",
      " chNormalization)                                                \n",
      "                                                                 \n",
      " max_pooling2d_31 (MaxPoolin  (None, 24, 24, 32)       0         \n",
      " g2D)                                                            \n",
      "                                                                 \n",
      " dropout_39 (Dropout)        (None, 24, 24, 32)        0         \n",
      "                                                                 \n",
      " conv2d_67 (Conv2D)          (None, 24, 24, 64)        51264     \n",
      "                                                                 \n",
      " batch_normalization_75 (Bat  (None, 24, 24, 64)       256       \n",
      " chNormalization)                                                \n",
      "                                                                 \n",
      " conv2d_68 (Conv2D)          (None, 24, 24, 64)        102464    \n",
      "                                                                 \n",
      " batch_normalization_76 (Bat  (None, 24, 24, 64)       256       \n",
      " chNormalization)                                                \n",
      "                                                                 \n",
      " max_pooling2d_32 (MaxPoolin  (None, 12, 12, 64)       0         \n",
      " g2D)                                                            \n",
      "                                                                 \n",
      " dropout_40 (Dropout)        (None, 12, 12, 64)        0         \n",
      "                                                                 \n",
      " conv2d_69 (Conv2D)          (None, 12, 12, 128)       73856     \n",
      "                                                                 \n",
      " batch_normalization_77 (Bat  (None, 12, 12, 128)      512       \n",
      " chNormalization)                                                \n",
      "                                                                 \n",
      " conv2d_70 (Conv2D)          (None, 12, 12, 128)       147584    \n",
      "                                                                 \n",
      " batch_normalization_78 (Bat  (None, 12, 12, 128)      512       \n",
      " chNormalization)                                                \n",
      "                                                                 \n",
      " max_pooling2d_33 (MaxPoolin  (None, 6, 6, 128)        0         \n",
      " g2D)                                                            \n",
      "                                                                 \n",
      " dropout_41 (Dropout)        (None, 6, 6, 128)         0         \n",
      "                                                                 \n",
      " conv2d_71 (Conv2D)          (None, 6, 6, 256)         295168    \n",
      "                                                                 \n",
      " batch_normalization_79 (Bat  (None, 6, 6, 256)        1024      \n",
      " chNormalization)                                                \n",
      "                                                                 \n",
      " conv2d_72 (Conv2D)          (None, 6, 6, 256)         590080    \n",
      "                                                                 \n",
      " batch_normalization_80 (Bat  (None, 6, 6, 256)        1024      \n",
      " chNormalization)                                                \n",
      "                                                                 \n",
      " max_pooling2d_34 (MaxPoolin  (None, 3, 3, 256)        0         \n",
      " g2D)                                                            \n",
      "                                                                 \n",
      " dropout_42 (Dropout)        (None, 3, 3, 256)         0         \n",
      "                                                                 \n",
      " flatten_8 (Flatten)         (None, 2304)              0         \n",
      "                                                                 \n",
      " dense_16 (Dense)            (None, 128)               295040    \n",
      "                                                                 \n",
      " batch_normalization_81 (Bat  (None, 128)              512       \n",
      " chNormalization)                                                \n",
      "                                                                 \n",
      " dropout_43 (Dropout)        (None, 128)               0         \n",
      "                                                                 \n",
      " dense_17 (Dense)            (None, 7)                 903       \n",
      "                                                                 \n",
      "=================================================================\n",
      "Total params: 1,587,175\n",
      "Trainable params: 1,584,999\n",
      "Non-trainable params: 2,176\n",
      "_________________________________________________________________\n"
     ]
    }
   ],
   "source": [
    "model.summary()"
   ]
  },
  {
   "cell_type": "code",
   "execution_count": 44,
   "id": "c262baac",
   "metadata": {},
   "outputs": [],
   "source": [
    "model.compile(optimizer=tf.keras.optimizers.Adam(learning_rate=0.001, epsilon=0.001, amsgrad=True),\n",
    "              loss='categorical_crossentropy',\n",
    "              metrics = ['accuracy'])"
   ]
  },
  {
   "cell_type": "code",
   "execution_count": 45,
   "id": "fca979d0",
   "metadata": {
    "scrolled": true
   },
   "outputs": [
    {
     "name": "stdout",
     "output_type": "stream",
     "text": [
      "Epoch 1/75\n",
      "202/202 [==============================] - 9s 39ms/step - loss: 2.3146 - accuracy: 0.2314 - val_loss: 1.7519 - val_accuracy: 0.3065\n",
      "Epoch 2/75\n",
      "202/202 [==============================] - 8s 39ms/step - loss: 1.7800 - accuracy: 0.3420 - val_loss: 1.5935 - val_accuracy: 0.3884\n",
      "Epoch 3/75\n",
      "202/202 [==============================] - 8s 40ms/step - loss: 1.5818 - accuracy: 0.4012 - val_loss: 1.4186 - val_accuracy: 0.4518\n",
      "Epoch 4/75\n",
      "202/202 [==============================] - 8s 39ms/step - loss: 1.4546 - accuracy: 0.4436 - val_loss: 1.3374 - val_accuracy: 0.4845\n",
      "Epoch 5/75\n",
      "202/202 [==============================] - 8s 39ms/step - loss: 1.3556 - accuracy: 0.4829 - val_loss: 1.3087 - val_accuracy: 0.5127\n",
      "Epoch 6/75\n",
      "202/202 [==============================] - 8s 38ms/step - loss: 1.2902 - accuracy: 0.5077 - val_loss: 1.2471 - val_accuracy: 0.5162\n",
      "Epoch 7/75\n",
      "202/202 [==============================] - 8s 38ms/step - loss: 1.2346 - accuracy: 0.5297 - val_loss: 1.2044 - val_accuracy: 0.5357\n",
      "Epoch 8/75\n",
      "202/202 [==============================] - 8s 38ms/step - loss: 1.1831 - accuracy: 0.5552 - val_loss: 1.1381 - val_accuracy: 0.5629\n",
      "Epoch 9/75\n",
      "202/202 [==============================] - 8s 38ms/step - loss: 1.1509 - accuracy: 0.5668 - val_loss: 1.2067 - val_accuracy: 0.5455\n",
      "Epoch 10/75\n",
      "202/202 [==============================] - 8s 38ms/step - loss: 1.1132 - accuracy: 0.5827 - val_loss: 1.0972 - val_accuracy: 0.5785\n",
      "Epoch 11/75\n",
      "202/202 [==============================] - 8s 39ms/step - loss: 1.0955 - accuracy: 0.5886 - val_loss: 1.1083 - val_accuracy: 0.5827\n",
      "Epoch 12/75\n",
      "202/202 [==============================] - 8s 39ms/step - loss: 1.0539 - accuracy: 0.6049 - val_loss: 1.0932 - val_accuracy: 0.5838\n",
      "Epoch 13/75\n",
      "202/202 [==============================] - 8s 38ms/step - loss: 1.0161 - accuracy: 0.6201 - val_loss: 1.0798 - val_accuracy: 0.5960\n",
      "Epoch 14/75\n",
      "202/202 [==============================] - 8s 39ms/step - loss: 0.9954 - accuracy: 0.6288 - val_loss: 1.0833 - val_accuracy: 0.5897\n",
      "Epoch 15/75\n",
      "202/202 [==============================] - 8s 38ms/step - loss: 0.9615 - accuracy: 0.6392 - val_loss: 1.0506 - val_accuracy: 0.5991\n",
      "Epoch 16/75\n",
      "202/202 [==============================] - 8s 38ms/step - loss: 0.9267 - accuracy: 0.6546 - val_loss: 1.0937 - val_accuracy: 0.5967\n",
      "Epoch 17/75\n",
      "202/202 [==============================] - 8s 39ms/step - loss: 0.9015 - accuracy: 0.6648 - val_loss: 1.0459 - val_accuracy: 0.6123\n",
      "Epoch 18/75\n",
      "202/202 [==============================] - 8s 39ms/step - loss: 0.8633 - accuracy: 0.6805 - val_loss: 1.0349 - val_accuracy: 0.6144\n",
      "Epoch 19/75\n",
      "202/202 [==============================] - 8s 39ms/step - loss: 0.8510 - accuracy: 0.6867 - val_loss: 1.0600 - val_accuracy: 0.6015\n",
      "Epoch 20/75\n",
      "202/202 [==============================] - 8s 39ms/step - loss: 0.8235 - accuracy: 0.6957 - val_loss: 1.0604 - val_accuracy: 0.6130\n",
      "Epoch 21/75\n",
      "202/202 [==============================] - 8s 39ms/step - loss: 0.7842 - accuracy: 0.7128 - val_loss: 1.0752 - val_accuracy: 0.6217\n",
      "Epoch 22/75\n",
      "202/202 [==============================] - 8s 39ms/step - loss: 0.7584 - accuracy: 0.7240 - val_loss: 1.1375 - val_accuracy: 0.6026\n",
      "Epoch 23/75\n",
      "202/202 [==============================] - 8s 39ms/step - loss: 0.7389 - accuracy: 0.7293 - val_loss: 1.0922 - val_accuracy: 0.6200\n",
      "Epoch 24/75\n",
      "202/202 [==============================] - 8s 38ms/step - loss: 0.7083 - accuracy: 0.7418 - val_loss: 1.1757 - val_accuracy: 0.6064\n",
      "Epoch 25/75\n",
      "202/202 [==============================] - 8s 39ms/step - loss: 0.6770 - accuracy: 0.7515 - val_loss: 1.1168 - val_accuracy: 0.6297\n",
      "Epoch 26/75\n",
      "202/202 [==============================] - 8s 39ms/step - loss: 0.6593 - accuracy: 0.7578 - val_loss: 1.1321 - val_accuracy: 0.6210\n",
      "Epoch 27/75\n",
      "202/202 [==============================] - 8s 39ms/step - loss: 0.6386 - accuracy: 0.7665 - val_loss: 1.1312 - val_accuracy: 0.6235\n",
      "Epoch 28/75\n",
      "202/202 [==============================] - 8s 39ms/step - loss: 0.6098 - accuracy: 0.7789 - val_loss: 1.1631 - val_accuracy: 0.6311\n",
      "Epoch 29/75\n",
      "202/202 [==============================] - 8s 39ms/step - loss: 0.5804 - accuracy: 0.7912 - val_loss: 1.1576 - val_accuracy: 0.6308\n",
      "Epoch 30/75\n",
      "202/202 [==============================] - 8s 39ms/step - loss: 0.5548 - accuracy: 0.7980 - val_loss: 1.1645 - val_accuracy: 0.6325\n",
      "Epoch 31/75\n",
      "202/202 [==============================] - 8s 39ms/step - loss: 0.5454 - accuracy: 0.8006 - val_loss: 1.1855 - val_accuracy: 0.6308\n",
      "Epoch 32/75\n",
      "202/202 [==============================] - 8s 39ms/step - loss: 0.5203 - accuracy: 0.8107 - val_loss: 1.1843 - val_accuracy: 0.6297\n",
      "Epoch 33/75\n",
      "202/202 [==============================] - 8s 39ms/step - loss: 0.4961 - accuracy: 0.8225 - val_loss: 1.3213 - val_accuracy: 0.6214\n",
      "Epoch 34/75\n",
      "202/202 [==============================] - 8s 39ms/step - loss: 0.4799 - accuracy: 0.8290 - val_loss: 1.2753 - val_accuracy: 0.6284\n",
      "Epoch 35/75\n",
      "202/202 [==============================] - 8s 40ms/step - loss: 0.4668 - accuracy: 0.8318 - val_loss: 1.2340 - val_accuracy: 0.6332\n",
      "Epoch 36/75\n",
      "202/202 [==============================] - 8s 39ms/step - loss: 0.4467 - accuracy: 0.8410 - val_loss: 1.2947 - val_accuracy: 0.6329\n",
      "Epoch 37/75\n",
      "202/202 [==============================] - 8s 39ms/step - loss: 0.4233 - accuracy: 0.8496 - val_loss: 1.3770 - val_accuracy: 0.6304\n",
      "Epoch 38/75\n",
      "202/202 [==============================] - 8s 39ms/step - loss: 0.4128 - accuracy: 0.8503 - val_loss: 1.3084 - val_accuracy: 0.6360\n",
      "Epoch 39/75\n",
      "202/202 [==============================] - 8s 39ms/step - loss: 0.3934 - accuracy: 0.8573 - val_loss: 1.2950 - val_accuracy: 0.6395\n",
      "Epoch 40/75\n",
      "202/202 [==============================] - 8s 39ms/step - loss: 0.3788 - accuracy: 0.8639 - val_loss: 1.4263 - val_accuracy: 0.6273\n",
      "Epoch 41/75\n",
      "202/202 [==============================] - 8s 39ms/step - loss: 0.3640 - accuracy: 0.8684 - val_loss: 1.3412 - val_accuracy: 0.6468\n",
      "Epoch 42/75\n",
      "202/202 [==============================] - 8s 39ms/step - loss: 0.3436 - accuracy: 0.8758 - val_loss: 1.3989 - val_accuracy: 0.6186\n",
      "Epoch 43/75\n",
      "202/202 [==============================] - 8s 38ms/step - loss: 0.3424 - accuracy: 0.8771 - val_loss: 1.4588 - val_accuracy: 0.6280\n",
      "Epoch 44/75\n",
      "202/202 [==============================] - 8s 38ms/step - loss: 0.3313 - accuracy: 0.8804 - val_loss: 1.3838 - val_accuracy: 0.6444\n",
      "Epoch 45/75\n",
      "202/202 [==============================] - 8s 38ms/step - loss: 0.3118 - accuracy: 0.8889 - val_loss: 1.5788 - val_accuracy: 0.6231\n",
      "Epoch 46/75\n",
      "202/202 [==============================] - 8s 38ms/step - loss: 0.3046 - accuracy: 0.8918 - val_loss: 1.4297 - val_accuracy: 0.6367\n",
      "Epoch 47/75\n",
      "202/202 [==============================] - 8s 38ms/step - loss: 0.2989 - accuracy: 0.8941 - val_loss: 1.4502 - val_accuracy: 0.6405\n",
      "Epoch 48/75\n",
      "202/202 [==============================] - 8s 39ms/step - loss: 0.2756 - accuracy: 0.9030 - val_loss: 1.5103 - val_accuracy: 0.6228\n",
      "Epoch 49/75\n",
      "202/202 [==============================] - 8s 39ms/step - loss: 0.2654 - accuracy: 0.9061 - val_loss: 1.5441 - val_accuracy: 0.6426\n",
      "Epoch 50/75\n",
      "202/202 [==============================] - 8s 39ms/step - loss: 0.2638 - accuracy: 0.9100 - val_loss: 1.5282 - val_accuracy: 0.6454\n",
      "Epoch 51/75\n",
      "202/202 [==============================] - 8s 39ms/step - loss: 0.2538 - accuracy: 0.9092 - val_loss: 1.5540 - val_accuracy: 0.6371\n",
      "Epoch 52/75\n",
      "202/202 [==============================] - 8s 39ms/step - loss: 0.2502 - accuracy: 0.9121 - val_loss: 1.5883 - val_accuracy: 0.6242\n",
      "Epoch 53/75\n",
      "202/202 [==============================] - 8s 39ms/step - loss: 0.2316 - accuracy: 0.9193 - val_loss: 1.6134 - val_accuracy: 0.6426\n",
      "Epoch 54/75\n",
      "202/202 [==============================] - 8s 39ms/step - loss: 0.2179 - accuracy: 0.9230 - val_loss: 1.5825 - val_accuracy: 0.6346\n",
      "Epoch 55/75\n",
      "202/202 [==============================] - 8s 39ms/step - loss: 0.2256 - accuracy: 0.9215 - val_loss: 1.6347 - val_accuracy: 0.6364\n",
      "Epoch 56/75\n",
      "202/202 [==============================] - 8s 39ms/step - loss: 0.2157 - accuracy: 0.9238 - val_loss: 1.6604 - val_accuracy: 0.6388\n",
      "Epoch 57/75\n",
      "202/202 [==============================] - 8s 39ms/step - loss: 0.2082 - accuracy: 0.9282 - val_loss: 1.6334 - val_accuracy: 0.6426\n"
     ]
    },
    {
     "name": "stdout",
     "output_type": "stream",
     "text": [
      "Epoch 58/75\n",
      "202/202 [==============================] - 8s 39ms/step - loss: 0.2054 - accuracy: 0.9266 - val_loss: 1.6382 - val_accuracy: 0.6364\n",
      "Epoch 59/75\n",
      "202/202 [==============================] - 8s 39ms/step - loss: 0.2110 - accuracy: 0.9251 - val_loss: 1.6998 - val_accuracy: 0.6235\n",
      "Epoch 60/75\n",
      "202/202 [==============================] - 8s 39ms/step - loss: 0.2001 - accuracy: 0.9299 - val_loss: 1.6941 - val_accuracy: 0.6395\n",
      "Epoch 61/75\n",
      "202/202 [==============================] - 8s 39ms/step - loss: 0.1927 - accuracy: 0.9330 - val_loss: 1.6452 - val_accuracy: 0.6430\n",
      "Epoch 62/75\n",
      "202/202 [==============================] - 8s 39ms/step - loss: 0.1808 - accuracy: 0.9363 - val_loss: 1.7128 - val_accuracy: 0.6419\n",
      "Epoch 63/75\n",
      "202/202 [==============================] - 8s 39ms/step - loss: 0.1701 - accuracy: 0.9416 - val_loss: 1.7009 - val_accuracy: 0.6395\n",
      "Epoch 64/75\n",
      "202/202 [==============================] - 8s 39ms/step - loss: 0.1781 - accuracy: 0.9374 - val_loss: 1.6912 - val_accuracy: 0.6398\n",
      "Epoch 65/75\n",
      "202/202 [==============================] - 8s 39ms/step - loss: 0.1725 - accuracy: 0.9403 - val_loss: 1.7229 - val_accuracy: 0.6381\n",
      "Epoch 66/75\n",
      "202/202 [==============================] - 8s 40ms/step - loss: 0.1675 - accuracy: 0.9400 - val_loss: 1.6749 - val_accuracy: 0.6430\n",
      "Epoch 67/75\n",
      "202/202 [==============================] - 8s 39ms/step - loss: 0.1582 - accuracy: 0.9445 - val_loss: 1.7539 - val_accuracy: 0.6423\n",
      "Epoch 68/75\n",
      "202/202 [==============================] - 8s 39ms/step - loss: 0.1466 - accuracy: 0.9488 - val_loss: 1.7737 - val_accuracy: 0.6440\n",
      "Epoch 69/75\n",
      "202/202 [==============================] - 8s 38ms/step - loss: 0.1480 - accuracy: 0.9480 - val_loss: 1.8027 - val_accuracy: 0.6360\n",
      "Epoch 70/75\n",
      "202/202 [==============================] - 8s 39ms/step - loss: 0.1541 - accuracy: 0.9474 - val_loss: 1.8264 - val_accuracy: 0.6325\n",
      "Epoch 71/75\n",
      "202/202 [==============================] - 8s 39ms/step - loss: 0.1570 - accuracy: 0.9474 - val_loss: 1.7978 - val_accuracy: 0.6454\n",
      "Epoch 72/75\n",
      "202/202 [==============================] - 8s 39ms/step - loss: 0.1531 - accuracy: 0.9469 - val_loss: 1.7572 - val_accuracy: 0.6475\n",
      "Epoch 73/75\n",
      "202/202 [==============================] - 8s 39ms/step - loss: 0.1453 - accuracy: 0.9504 - val_loss: 1.7815 - val_accuracy: 0.6440\n",
      "Epoch 74/75\n",
      "202/202 [==============================] - 8s 39ms/step - loss: 0.1415 - accuracy: 0.9505 - val_loss: 1.7284 - val_accuracy: 0.6534\n",
      "Epoch 75/75\n",
      "202/202 [==============================] - 8s 39ms/step - loss: 0.1390 - accuracy: 0.9516 - val_loss: 1.7532 - val_accuracy: 0.6444\n"
     ]
    }
   ],
   "source": [
    "hist = model.fit(X_train, y_train, epochs = epochs, batch_size = batch_size, validation_data=(X_test, y_test))"
   ]
  },
  {
   "cell_type": "code",
   "execution_count": 46,
   "id": "26b74e13",
   "metadata": {},
   "outputs": [
    {
     "name": "stdout",
     "output_type": "stream",
     "text": [
      "202/202 [==============================] - 8s 39ms/step - loss: 0.1262 - accuracy: 0.9570 - val_loss: 1.8599 - val_accuracy: 0.6357\n"
     ]
    }
   ],
   "source": [
    "hist2 = model.fit(X_train, y_train, epochs = 1, batch_size = batch_size, validation_data=(X_test, y_test))"
   ]
  },
  {
   "cell_type": "code",
   "execution_count": 47,
   "id": "ec3f645b",
   "metadata": {},
   "outputs": [
    {
     "name": "stdout",
     "output_type": "stream",
     "text": [
      "202/202 [==============================] - 8s 39ms/step - loss: 0.1325 - accuracy: 0.9557 - val_loss: 1.9092 - val_accuracy: 0.6374\n"
     ]
    }
   ],
   "source": [
    "hist3 = model.fit(X_train, y_train, epochs = 1, batch_size = batch_size, validation_data=(X_test, y_test))"
   ]
  },
  {
   "cell_type": "code",
   "execution_count": 48,
   "id": "b2aad6bf",
   "metadata": {},
   "outputs": [
    {
     "name": "stdout",
     "output_type": "stream",
     "text": [
      "202/202 [==============================] - 8s 39ms/step - loss: 0.1287 - accuracy: 0.9563 - val_loss: 1.7852 - val_accuracy: 0.6552\n"
     ]
    }
   ],
   "source": [
    "hist4 = model.fit(X_train, y_train, epochs = 1, batch_size = batch_size, validation_data=(X_test, y_test))"
   ]
  },
  {
   "cell_type": "code",
   "execution_count": 49,
   "id": "79ef0f8a",
   "metadata": {},
   "outputs": [
    {
     "data": {
      "image/png": "[encoded data removed]",
      "text/plain": [
       "<Figure size 432x288 with 2 Axes>"
      ]
     },
     "metadata": {
      "needs_background": "light"
     },
     "output_type": "display_data"
    }
   ],
   "source": [
    "from sklearn.metrics import confusion_matrix, ConfusionMatrixDisplay\n",
    "import matplotlib.pyplot as plt\n",
    "\n",
    "pred = model.predict(X_test)\n",
    "y_pred=np.argmax(pred,axis=1)\n",
    "rounded_labels=np.argmax(y_test, axis=1)\n",
    "Confusion_Matrix = confusion_matrix(rounded_labels, y_pred)\n",
    "Disp = ConfusionMatrixDisplay(Confusion_Matrix)\n",
    "Disp.plot()\n",
    "plt.show()"
   ]
  },
  {
   "cell_type": "code",
   "execution_count": 50,
   "id": "064dfb75",
   "metadata": {},
   "outputs": [
    {
     "name": "stdout",
     "output_type": "stream",
     "text": [
      "ROC_AUC Score: 0.9031400602890293\n",
      "Cohen_Kappa Score: 0.5804126122008642\n",
      "F1 Score: 0.6407606443382037\n",
      "Matthews Correlation Coefficient: 0.5810411792173555\n",
      "Log Loss: 1.785233967759882\n",
      "Accuracy: 0.6551724137931034\n"
     ]
    }
   ],
   "source": [
    "from sklearn.metrics import roc_auc_score, cohen_kappa_score, f1_score, matthews_corrcoef, log_loss, accuracy_score\n",
    "\n",
    "y_pred_proba = model.predict(X_test)\n",
    "\n",
    "ROC_AUC = roc_auc_score(rounded_labels, y_pred_proba, multi_class='ovr')\n",
    "Cohen_Kappa = cohen_kappa_score(rounded_labels, y_pred)\n",
    "F1 = f1_score(rounded_labels, y_pred, average='macro')\n",
    "Matthews = matthews_corrcoef(rounded_labels, y_pred)\n",
    "Log = log_loss(rounded_labels, y_pred_proba)\n",
    "Accuracy = accuracy_score(rounded_labels, y_pred)\n",
    "\n",
    "print('ROC_AUC Score:', ROC_AUC)\n",
    "print('Cohen_Kappa Score:', Cohen_Kappa)\n",
    "print('F1 Score:', F1)\n",
    "print('Matthews Correlation Coefficient:', Matthews)\n",
    "print('Log Loss:', Log)\n",
    "print('Accuracy:', Accuracy)       "
   ]
  },
  {
   "cell_type": "code",
   "execution_count": 52,
   "id": "04f86190",
   "metadata": {},
   "outputs": [
    {
     "data": {
      "text/plain": [
       "Text(0, 0.5, 'Loss')"
      ]
     },
     "execution_count": 52,
     "metadata": {},
     "output_type": "execute_result"
    },
    {
     "data": {
      "image/png": "[encoded data removed]",
      "text/plain": [
       "<Figure size 432x288 with 1 Axes>"
      ]
     },
     "metadata": {
      "needs_background": "light"
     },
     "output_type": "display_data"
    },
    {
     "data": {
      "image/png": "[encoded data removed]",
      "text/plain": [
       "<Figure size 432x288 with 1 Axes>"
      ]
     },
     "metadata": {
      "needs_background": "light"
     },
     "output_type": "display_data"
    }
   ],
   "source": [
    "#-----------------------------------------------------------\n",
    "# Retrieve a list of list results on training and test data\n",
    "# sets for each training epoch\n",
    "#-----------------------------------------------------------\n",
    "acc      = hist.history[     'accuracy' ] + hist2.history[     'accuracy' ] + hist3.history[     'accuracy' ] + hist4.history[     'accuracy' ]\n",
    "val_acc  = hist.history[ 'val_accuracy' ] + hist2.history[     'val_accuracy' ] + hist3.history[     'val_accuracy' ] + hist4.history[     'val_accuracy' ]\n",
    "loss     = hist.history[    'loss' ] + hist2.history[     'loss' ] + hist3.history[     'loss' ] + hist4.history[     'loss' ]\n",
    "val_loss = hist.history['val_loss' ] + hist2.history[     'val_loss' ] + hist3.history[     'val_loss' ] + hist4.history[     'val_loss' ]\n",
    "\n",
    "epochs   = range(len(acc)) # Get number of epochs\n",
    "\n",
    "#------------------------------------------------\n",
    "# Plot training and validation accuracy per epoch\n",
    "#------------------------------------------------\n",
    "plt.figure()\n",
    "plt.plot  ( epochs,     acc )\n",
    "plt.plot  ( epochs, val_acc, color = 'g')\n",
    "plt.title ('Training and Validation Accuracy')\n",
    "plt.legend(['Training Accuracy','Validation Accuracy'])\n",
    "plt.xlabel('Training Epochs')\n",
    "plt.ylabel('Accuracy')\n",
    "\n",
    "#------------------------------------------------\n",
    "# Plot training and validation loss per epoch\n",
    "#------------------------------------------------\n",
    "plt.figure()\n",
    "plt.plot  ( epochs,     loss )\n",
    "plt.plot  ( epochs, val_loss, color = 'g' )\n",
    "plt.title ('Training and Validation Loss')\n",
    "plt.legend(['Training Loss','Validation Loss'])\n",
    "plt.xlabel('Training Epochs')\n",
    "plt.ylabel('Loss')\n"
   ]
  },
  {
   "cell_type": "code",
   "execution_count": null,
   "id": "57bfa405",
   "metadata": {},
   "outputs": [],
   "source": []
  },
  {
   "cell_type": "code",
   "execution_count": null,
   "id": "899432b2",
   "metadata": {},
   "outputs": [],
   "source": []
  }
 ],
 "metadata": {
  "kernelspec": {
   "display_name": "Python 3 (ipykernel)",
   "language": "python",
   "name": "python3"
  },
  "language_info": {
   "codemirror_mode": {
    "name": "ipython",
    "version": 3
   },
   "file_extension": ".py",
   "mimetype": "text/x-python",
   "name": "python",
   "nbconvert_exporter": "python",
   "pygments_lexer": "ipython3",
   "version": "3.9.7"
  }
 },
 "nbformat": 4,
 "nbformat_minor": 5
}
