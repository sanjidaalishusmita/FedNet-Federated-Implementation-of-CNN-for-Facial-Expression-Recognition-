{
 "cells": [
  {
   "cell_type": "markdown",
   "id": "fb960044",
   "metadata": {},
   "source": [
    "## Importing Packages"
   ]
  },
  {
   "cell_type": "code",
   "execution_count": 1,
   "id": "9b43d7a6",
   "metadata": {},
   "outputs": [],
   "source": [
    "import numpy as np\n",
    "import random\n",
    "import cv2\n",
    "import os\n",
    "from imutils import paths\n",
    "from sklearn.model_selection import train_test_split\n",
    "from sklearn.preprocessing import LabelBinarizer\n",
    "from sklearn.model_selection import train_test_split\n",
    "from sklearn.utils import shuffle\n",
    "from sklearn.metrics import accuracy_score\n",
    "\n",
    "import tensorflow as tf\n",
    "from tensorflow.keras.models import Sequential\n",
    "from tensorflow.keras.layers import Conv2D\n",
    "from tensorflow.keras.layers import MaxPooling2D\n",
    "from tensorflow.keras.layers import Activation\n",
    "from tensorflow.keras.layers import Flatten\n",
    "from tensorflow.keras.layers import Dense\n",
    "from tensorflow.keras.layers import BatchNormalization\n",
    "from tensorflow.keras.layers import Dropout\n",
    "from tensorflow.keras.optimizers import SGD\n",
    "from tensorflow.keras import backend as K"
   ]
  },
  {
   "cell_type": "code",
   "execution_count": 3,
   "id": "78744122",
   "metadata": {},
   "outputs": [],
   "source": [
    "from fl_mnist_implementation_utils import *"
   ]
  },
  {
   "cell_type": "markdown",
   "id": "2717890d",
   "metadata": {},
   "source": [
    "## Loading Dataset & Data Preprocessing"
   ]
  },
  {
   "cell_type": "code",
   "execution_count": 4,
   "id": "0dcdde2e",
   "metadata": {},
   "outputs": [],
   "source": [
    "def load(paths, verbose=-1):\n",
    "    '''expects images for each class in seperate dir, \n",
    "    e.g all digits in 0 class in the directory named 0 '''\n",
    "    data = list()\n",
    "    labels = list()\n",
    "    # loop over the input images\n",
    "    for (i, imgpath) in enumerate(paths):\n",
    "        # load the image and extract the class labels\n",
    "        im_gray = cv2.imread(imgpath, cv2.IMREAD_GRAYSCALE)\n",
    "        #im_gray_resized = cv2.resize(im_gray, (48,48), interpolation = cv2.INTER_AREA)\n",
    "        #image = np.array(im_gray).flatten()\n",
    "        label = imgpath.split(os.path.sep)[-2]\n",
    "        # scale the image to [0, 1] and add to list\n",
    "        data.append(im_gray/255)\n",
    "        labels.append(label)\n",
    "        # show an update every `verbose` images\n",
    "        if verbose > 0 and i > 0 and (i + 1) % verbose == 0:\n",
    "            print(\"[INFO] processed {}/{}\".format(i + 1, len(paths)))\n",
    "    # return a tuple of the data and labels\n",
    "    return data, labels"
   ]
  },
  {
   "cell_type": "code",
   "execution_count": 5,
   "id": "2dbb8b81",
   "metadata": {},
   "outputs": [
    {
     "name": "stdout",
     "output_type": "stream",
     "text": [
      "[INFO] processed 1000/28709\n",
      "[INFO] processed 2000/28709\n",
      "[INFO] processed 3000/28709\n",
      "[INFO] processed 4000/28709\n",
      "[INFO] processed 5000/28709\n",
      "[INFO] processed 6000/28709\n",
      "[INFO] processed 7000/28709\n",
      "[INFO] processed 8000/28709\n",
      "[INFO] processed 9000/28709\n",
      "[INFO] processed 10000/28709\n",
      "[INFO] processed 11000/28709\n",
      "[INFO] processed 12000/28709\n",
      "[INFO] processed 13000/28709\n",
      "[INFO] processed 14000/28709\n",
      "[INFO] processed 15000/28709\n",
      "[INFO] processed 16000/28709\n",
      "[INFO] processed 17000/28709\n",
      "[INFO] processed 18000/28709\n",
      "[INFO] processed 19000/28709\n",
      "[INFO] processed 20000/28709\n",
      "[INFO] processed 21000/28709\n",
      "[INFO] processed 22000/28709\n",
      "[INFO] processed 23000/28709\n",
      "[INFO] processed 24000/28709\n",
      "[INFO] processed 25000/28709\n",
      "[INFO] processed 26000/28709\n",
      "[INFO] processed 27000/28709\n",
      "[INFO] processed 28000/28709\n"
     ]
    }
   ],
   "source": [
    "#declear path to your mnist data folder\n",
    "img_path = r'D:\\Important Files\\Dataset Collection\\Image Classification\\Facial Expression\\FER\\train'\n",
    "\n",
    "#get the path list using the path object\n",
    "image_paths = list(paths.list_images(img_path))\n",
    "\n",
    "#apply our function\n",
    "image_list, label_list = load(image_paths, verbose=1000)\n",
    "\n",
    "#binarize the labels\n",
    "lb = LabelBinarizer()\n",
    "label_list = lb.fit_transform(label_list)\n",
    "\n",
    "#split data into training and test set\n",
    "X_train, X_test, y_train, y_test = train_test_split(image_list, \n",
    "                                                    label_list, \n",
    "                                                    test_size=0.1, \n",
    "                                                    random_state=7)"
   ]
  },
  {
   "cell_type": "markdown",
   "id": "d987d5c8",
   "metadata": {},
   "source": [
    "## Creation of Local Clients & Data Distribution"
   ]
  },
  {
   "cell_type": "code",
   "execution_count": 6,
   "id": "988b71a7",
   "metadata": {},
   "outputs": [],
   "source": [
    "def create_clients(image_list, label_list, num_clients=3, initial='clients'):\n",
    "    ''' return: a dictionary with keys clients' names and value as \n",
    "                data shards - tuple of images and label lists.\n",
    "        args: \n",
    "            image_list: a list of numpy arrays of training images\n",
    "            label_list:a list of binarized labels for each image\n",
    "            num_client: number of fedrated members (clients)\n",
    "            initials: the clients'name prefix, e.g, clients_1 \n",
    "            \n",
    "    '''\n",
    "\n",
    "    #create a list of client names\n",
    "    client_names = ['{}_{}'.format(initial, i+1) for i in range(num_clients)]\n",
    "\n",
    "    #randomize the data\n",
    "    data = list(zip(image_list, label_list))\n",
    "    random.shuffle(data)\n",
    "\n",
    "    #shard data and place at each client\n",
    "    size = len(data)//num_clients\n",
    "    shards = [data[i:i + size] for i in range(0, size*num_clients, size)]\n",
    "\n",
    "    #number of clients must equal number of shards\n",
    "    assert(len(shards) == len(client_names))\n",
    "\n",
    "    return {client_names[i] : shards[i] for i in range(len(client_names))} "
   ]
  },
  {
   "cell_type": "code",
   "execution_count": 7,
   "id": "c95a6844",
   "metadata": {},
   "outputs": [],
   "source": [
    "#create clients\n",
    "clients = create_clients(X_train, y_train, num_clients=3, initial='client')"
   ]
  },
  {
   "cell_type": "code",
   "execution_count": 8,
   "id": "c262baac",
   "metadata": {},
   "outputs": [],
   "source": [
    "def batch_data(data_shard, bs=32):\n",
    "    '''Takes in a clients data shard and create a tfds object off it\n",
    "    args:\n",
    "        shard: a data, label constituting a client's data shard\n",
    "        bs:batch size\n",
    "    return:\n",
    "        tfds object'''\n",
    "    #seperate shard into data and labels lists\n",
    "    data, label = zip(*data_shard)\n",
    "    dataset = tf.data.Dataset.from_tensor_slices((list(data), list(label)))\n",
    "    return dataset.shuffle(len(label)).batch(bs)"
   ]
  },
  {
   "cell_type": "code",
   "execution_count": 9,
   "id": "fca979d0",
   "metadata": {},
   "outputs": [],
   "source": [
    "#process and batch the training data for each client\n",
    "clients_batched = dict()\n",
    "for (client_name, data) in clients.items():\n",
    "    clients_batched[client_name] = batch_data(data)\n",
    "    \n",
    "#process and batch the train set  \n",
    "train_batched = tf.data.Dataset.from_tensor_slices((X_train, y_train)).batch(len(y_train))\n",
    "#process and batch the test set  \n",
    "test_batched = tf.data.Dataset.from_tensor_slices((X_test, y_test)).batch(len(y_test))"
   ]
  },
  {
   "cell_type": "markdown",
   "id": "78832a7b",
   "metadata": {},
   "source": [
    "## Building CNN Model"
   ]
  },
  {
   "cell_type": "code",
   "execution_count": 10,
   "id": "79ef0f8a",
   "metadata": {},
   "outputs": [],
   "source": [
    "class CNNModel:\n",
    "    @staticmethod\n",
    "    def build(shape, classes):\n",
    "        model = Sequential()\n",
    "        model.add(Conv2D(32, (5, 5), activation='relu', kernel_initializer='he_uniform', padding='same', input_shape=shape))\n",
    "        model.add(BatchNormalization())\n",
    "        model.add(Conv2D(32, (5, 5), activation='relu', kernel_initializer='he_uniform', padding='same'))\n",
    "        model.add(BatchNormalization())\n",
    "        model.add(MaxPooling2D((2, 2)))\n",
    "        model.add(Dropout(0.1))\n",
    "        model.add(Conv2D(64, (5, 5), activation='relu', kernel_initializer='he_uniform', padding='same'))\n",
    "        model.add(BatchNormalization())\n",
    "        model.add(Conv2D(64, (5, 5), activation='relu', kernel_initializer='he_uniform', padding='same'))\n",
    "        model.add(BatchNormalization())\n",
    "        model.add(MaxPooling2D((2, 2)))\n",
    "        model.add(Dropout(0.2))\n",
    "        model.add(Conv2D(128, (3, 3), activation='relu', kernel_initializer='he_uniform', padding='same'))\n",
    "        model.add(BatchNormalization())\n",
    "        model.add(Conv2D(128, (3, 3), activation='relu', kernel_initializer='he_uniform', padding='same'))\n",
    "        model.add(BatchNormalization())\n",
    "        model.add(MaxPooling2D((2, 2)))\n",
    "        model.add(Dropout(0.3))\n",
    "        model.add(Conv2D(256, (3, 3), activation='relu', kernel_initializer='he_uniform', padding='same'))\n",
    "        model.add(BatchNormalization())\n",
    "        model.add(Conv2D(256, (3, 3), activation='relu', kernel_initializer='he_uniform', padding='same'))\n",
    "        model.add(BatchNormalization())\n",
    "        model.add(MaxPooling2D((2, 2)))\n",
    "        model.add(Dropout(0.4))\n",
    "        model.add(Flatten())\n",
    "        model.add(Dense(128, activation='relu', kernel_initializer='he_uniform'))\n",
    "        model.add(BatchNormalization())\n",
    "        model.add(Dropout(0.5))\n",
    "        model.add(Dense(classes))\n",
    "        model.add(Activation(\"softmax\"))\n",
    "        return model"
   ]
  },
  {
   "cell_type": "code",
   "execution_count": 12,
   "id": "064dfb75",
   "metadata": {},
   "outputs": [],
   "source": [
    "lr = 0.001 \n",
    "comms_round = 20\n",
    "loss='categorical_crossentropy'\n",
    "metrics = ['accuracy']\n",
    "#optimizer = SGD(learning_rate=lr, \n",
    "#                decay=lr / comms_round, \n",
    "#                momentum=0.9\n",
    "#               )\n",
    "optimizer=tf.keras.optimizers.Adam(learning_rate=0.001, epsilon=0.001, amsgrad=True)"
   ]
  },
  {
   "cell_type": "markdown",
   "id": "ac88493e",
   "metadata": {},
   "source": [
    "## Training & Aggregating for Federated Implementation"
   ]
  },
  {
   "cell_type": "code",
   "execution_count": 13,
   "id": "27526f05",
   "metadata": {},
   "outputs": [],
   "source": [
    "Accu = []\n",
    "Loss = []\n",
    "Tr_Accu = []\n",
    "Tr_Loss =[]"
   ]
  },
  {
   "cell_type": "code",
   "execution_count": 14,
   "id": "04f86190",
   "metadata": {},
   "outputs": [
    {
     "name": "stdout",
     "output_type": "stream",
     "text": [
      "comm_round: 0 | global_training_acc: 25.033% | global_training_loss: 1.9071686267852783\n",
      "comm_round: 0 | global_acc: 26.019% | global_loss: 1.904741644859314\n",
      "comm_round: 1 | global_training_acc: 30.877% | global_training_loss: 1.8691132068634033\n",
      "comm_round: 1 | global_acc: 31.243% | global_loss: 1.8660204410552979\n",
      "comm_round: 2 | global_training_acc: 48.816% | global_training_loss: 1.7250711917877197\n",
      "comm_round: 2 | global_acc: 48.206% | global_loss: 1.728532314300537\n",
      "comm_round: 3 | global_training_acc: 59.683% | global_training_loss: 1.6174254417419434\n",
      "comm_round: 3 | global_acc: 55.486% | global_loss: 1.645775556564331\n",
      "comm_round: 4 | global_training_acc: 67.265% | global_training_loss: 1.522240400314331\n",
      "comm_round: 4 | global_acc: 60.362% | global_loss: 1.5803794860839844\n",
      "comm_round: 5 | global_training_acc: 69.762% | global_training_loss: 1.4883837699890137\n",
      "comm_round: 5 | global_acc: 59.282% | global_loss: 1.5739998817443848\n",
      "comm_round: 6 | global_training_acc: 76.902% | global_training_loss: 1.4241515398025513\n",
      "comm_round: 6 | global_acc: 62.591% | global_loss: 1.545039176940918\n",
      "comm_round: 7 | global_training_acc: 80.467% | global_training_loss: 1.3872578144073486\n",
      "comm_round: 7 | global_acc: 63.358% | global_loss: 1.5385725498199463\n",
      "comm_round: 8 | global_training_acc: 83.048% | global_training_loss: 1.3609708547592163\n",
      "comm_round: 8 | global_acc: 63.567% | global_loss: 1.5407744646072388\n",
      "comm_round: 9 | global_training_acc: 86.408% | global_training_loss: 1.331865906715393\n",
      "comm_round: 9 | global_acc: 63.218% | global_loss: 1.5362489223480225\n",
      "comm_round: 10 | global_training_acc: 89.372% | global_training_loss: 1.2960997819900513\n",
      "comm_round: 10 | global_acc: 63.671% | global_loss: 1.5271281003952026\n",
      "comm_round: 11 | global_training_acc: 91.834% | global_training_loss: 1.2711169719696045\n",
      "comm_round: 11 | global_acc: 64.054% | global_loss: 1.5240792036056519\n",
      "comm_round: 12 | global_training_acc: 92.221% | global_training_loss: 1.2654507160186768\n",
      "comm_round: 12 | global_acc: 63.079% | global_loss: 1.5304795503616333\n",
      "comm_round: 13 | global_training_acc: 93.010% | global_training_loss: 1.2561026811599731\n",
      "comm_round: 13 | global_acc: 63.845% | global_loss: 1.5265456438064575\n",
      "comm_round: 14 | global_training_acc: 95.286% | global_training_loss: 1.2293801307678223\n",
      "comm_round: 14 | global_acc: 64.194% | global_loss: 1.5185567140579224\n",
      "comm_round: 15 | global_training_acc: 95.371% | global_training_loss: 1.228467583656311\n",
      "comm_round: 15 | global_acc: 64.403% | global_loss: 1.5221599340438843\n",
      "comm_round: 16 | global_training_acc: 96.865% | global_training_loss: 1.2120481729507446\n",
      "comm_round: 16 | global_acc: 64.995% | global_loss: 1.5151081085205078\n",
      "comm_round: 17 | global_training_acc: 97.449% | global_training_loss: 1.204007863998413\n",
      "comm_round: 17 | global_acc: 65.482% | global_loss: 1.5130754709243774\n",
      "comm_round: 18 | global_training_acc: 98.034% | global_training_loss: 1.1967387199401855\n",
      "comm_round: 18 | global_acc: 64.960% | global_loss: 1.5158023834228516\n",
      "comm_round: 19 | global_training_acc: 97.136% | global_training_loss: 1.2070038318634033\n",
      "comm_round: 19 | global_acc: 64.507% | global_loss: 1.5193794965744019\n"
     ]
    }
   ],
   "source": [
    "#initialize global model\n",
    "mcnn_global = CNNModel()\n",
    "global_model = mcnn_global.build((48, 48, 1), 7)\n",
    "        \n",
    "#commence global training loop\n",
    "for comm_round in range(comms_round):\n",
    "            \n",
    "    # get the global model's weights - will serve as the initial weights for all local models\n",
    "    global_weights = global_model.get_weights()\n",
    "    \n",
    "    #initial list to collect local model weights after scalling\n",
    "    scaled_local_weight_list = list()\n",
    "\n",
    "    #randomize client data - using keys\n",
    "    client_names= list(clients_batched.keys())\n",
    "    random.shuffle(client_names)\n",
    "    \n",
    "    #loop through each client and create new local model\n",
    "    for client in client_names:\n",
    "        mcnn_local = CNNModel()\n",
    "        local_model = mcnn_local.build((48, 48, 1), 7)\n",
    "        local_model.compile(loss=loss, \n",
    "                      optimizer=optimizer, \n",
    "                      metrics=metrics)\n",
    "        \n",
    "        #set local model weight to the weight of the global model\n",
    "        local_model.set_weights(global_weights)\n",
    "        \n",
    "        #fit local model with client's data\n",
    "        local_model.fit(clients_batched[client], epochs=5, verbose=0)\n",
    "        \n",
    "        #scale the model weights and add to list\n",
    "        scaling_factor = weight_scalling_factor(clients_batched, client)\n",
    "        scaled_weights = scale_model_weights(local_model.get_weights(), scaling_factor)\n",
    "        scaled_local_weight_list.append(scaled_weights)\n",
    "        \n",
    "        #clear session to free memory after each communication round\n",
    "        K.clear_session()\n",
    "        \n",
    "    #to get the average over all the local model, we simply take the sum of the scaled weights\n",
    "    average_weights = sum_scaled_weights(scaled_local_weight_list)\n",
    "    \n",
    "    #update global model \n",
    "    global_model.set_weights(average_weights)\n",
    "\n",
    "    #test global model and print out metrics after each communications round\n",
    "    for(X_train, y_train) in train_batched:\n",
    "        global_train_acc, global_train_loss = test_train_model(X_train, y_train, global_model, comm_round)\n",
    "        Tr_Accu.append(global_train_acc)\n",
    "        Tr_Loss.append(global_train_loss)\n",
    "    for(X_test, y_test) in test_batched:\n",
    "        global_acc, global_loss = test_model(X_test, y_test, global_model, comm_round)\n",
    "        Accu.append(global_acc)\n",
    "        Loss.append(global_loss)"
   ]
  },
  {
   "cell_type": "code",
   "execution_count": 15,
   "id": "57bfa405",
   "metadata": {},
   "outputs": [
    {
     "name": "stdout",
     "output_type": "stream",
     "text": [
      "comm_round: 0 | global_training_acc: 98.634% | global_training_loss: 1.1883126497268677\n",
      "comm_round: 0 | global_acc: 64.681% | global_loss: 1.5156676769256592\n",
      "comm_round: 1 | global_training_acc: 98.916% | global_training_loss: 1.1845948696136475\n",
      "comm_round: 1 | global_acc: 63.950% | global_loss: 1.5163156986236572\n",
      "comm_round: 2 | global_training_acc: 99.172% | global_training_loss: 1.1806602478027344\n",
      "comm_round: 2 | global_acc: 65.343% | global_loss: 1.510393500328064\n",
      "comm_round: 3 | global_training_acc: 99.226% | global_training_loss: 1.179580569267273\n",
      "comm_round: 3 | global_acc: 65.552% | global_loss: 1.5101901292800903\n",
      "comm_round: 4 | global_training_acc: 99.164% | global_training_loss: 1.180925726890564\n",
      "comm_round: 4 | global_acc: 64.751% | global_loss: 1.5171552896499634\n"
     ]
    }
   ],
   "source": [
    "#commence global training loop\n",
    "for comm_round in range(5):\n",
    "            \n",
    "    # get the global model's weights - will serve as the initial weights for all local models\n",
    "    global_weights = global_model.get_weights()\n",
    "    \n",
    "    #initial list to collect local model weights after scalling\n",
    "    scaled_local_weight_list = list()\n",
    "\n",
    "    #randomize client data - using keys\n",
    "    client_names= list(clients_batched.keys())\n",
    "    random.shuffle(client_names)\n",
    "    \n",
    "    #loop through each client and create new local model\n",
    "    for client in client_names:\n",
    "        mcnn_local = CNNModel()\n",
    "        local_model = mcnn_local.build((48, 48, 1), 7)\n",
    "        local_model.compile(loss=loss, \n",
    "                      optimizer=optimizer, \n",
    "                      metrics=metrics)\n",
    "        \n",
    "        #set local model weight to the weight of the global model\n",
    "        local_model.set_weights(global_weights)\n",
    "        \n",
    "        #fit local model with client's data\n",
    "        local_model.fit(clients_batched[client], epochs=5, verbose=0)\n",
    "        \n",
    "        #scale the model weights and add to list\n",
    "        scaling_factor = weight_scalling_factor(clients_batched, client)\n",
    "        scaled_weights = scale_model_weights(local_model.get_weights(), scaling_factor)\n",
    "        scaled_local_weight_list.append(scaled_weights)\n",
    "        \n",
    "        #clear session to free memory after each communication round\n",
    "        K.clear_session()\n",
    "        \n",
    "    #to get the average over all the local model, we simply take the sum of the scaled weights\n",
    "    average_weights = sum_scaled_weights(scaled_local_weight_list)\n",
    "    \n",
    "    #update global model \n",
    "    global_model.set_weights(average_weights)\n",
    "\n",
    "    #test global model and print out metrics after each communications round\n",
    "    for(X_train, y_train) in train_batched:\n",
    "        global_train_acc, global_train_loss = test_train_model(X_train, y_train, global_model, comm_round)\n",
    "        Tr_Accu.append(global_train_acc)\n",
    "        Tr_Loss.append(global_train_loss)\n",
    "    for(X_test, y_test) in test_batched:\n",
    "        global_acc, global_loss = test_model(X_test, y_test, global_model, comm_round)\n",
    "        Accu.append(global_acc)\n",
    "        Loss.append(global_loss)"
   ]
  },
  {
   "cell_type": "code",
   "execution_count": 16,
   "id": "a52de18b",
   "metadata": {},
   "outputs": [
    {
     "name": "stdout",
     "output_type": "stream",
     "text": [
      "comm_round: 0 | global_training_acc: 99.369% | global_training_loss: 1.176662802696228\n",
      "comm_round: 0 | global_acc: 65.796% | global_loss: 1.5093566179275513\n",
      "comm_round: 1 | global_training_acc: 99.435% | global_training_loss: 1.1760485172271729\n",
      "comm_round: 1 | global_acc: 65.691% | global_loss: 1.508980393409729\n",
      "comm_round: 2 | global_training_acc: 99.447% | global_training_loss: 1.1752562522888184\n",
      "comm_round: 2 | global_acc: 65.726% | global_loss: 1.508803367614746\n",
      "comm_round: 3 | global_training_acc: 99.497% | global_training_loss: 1.1745280027389526\n",
      "comm_round: 3 | global_acc: 65.413% | global_loss: 1.509761929512024\n",
      "comm_round: 4 | global_training_acc: 99.628% | global_training_loss: 1.1720694303512573\n",
      "comm_round: 4 | global_acc: 65.587% | global_loss: 1.508871078491211\n"
     ]
    }
   ],
   "source": [
    "#commence global training loop\n",
    "for comm_round in range(5):\n",
    "            \n",
    "    # get the global model's weights - will serve as the initial weights for all local models\n",
    "    global_weights = global_model.get_weights()\n",
    "    \n",
    "    #initial list to collect local model weights after scalling\n",
    "    scaled_local_weight_list = list()\n",
    "\n",
    "    #randomize client data - using keys\n",
    "    client_names= list(clients_batched.keys())\n",
    "    random.shuffle(client_names)\n",
    "    \n",
    "    #loop through each client and create new local model\n",
    "    for client in client_names:\n",
    "        mcnn_local = CNNModel()\n",
    "        local_model = mcnn_local.build((48, 48, 1), 7)\n",
    "        local_model.compile(loss=loss, \n",
    "                      optimizer=optimizer, \n",
    "                      metrics=metrics)\n",
    "        \n",
    "        #set local model weight to the weight of the global model\n",
    "        local_model.set_weights(global_weights)\n",
    "        \n",
    "        #fit local model with client's data\n",
    "        local_model.fit(clients_batched[client], epochs=5, verbose=0)\n",
    "        \n",
    "        #scale the model weights and add to list\n",
    "        scaling_factor = weight_scalling_factor(clients_batched, client)\n",
    "        scaled_weights = scale_model_weights(local_model.get_weights(), scaling_factor)\n",
    "        scaled_local_weight_list.append(scaled_weights)\n",
    "        \n",
    "        #clear session to free memory after each communication round\n",
    "        K.clear_session()\n",
    "        \n",
    "    #to get the average over all the local model, we simply take the sum of the scaled weights\n",
    "    average_weights = sum_scaled_weights(scaled_local_weight_list)\n",
    "    \n",
    "    #update global model \n",
    "    global_model.set_weights(average_weights)\n",
    "\n",
    "    #test global model and print out metrics after each communications round\n",
    "    for(X_train, y_train) in train_batched:\n",
    "        global_train_acc, global_train_loss = test_train_model(X_train, y_train, global_model, comm_round)\n",
    "        Tr_Accu.append(global_train_acc)\n",
    "        Tr_Loss.append(global_train_loss)\n",
    "    for(X_test, y_test) in test_batched:\n",
    "        global_acc, global_loss = test_model(X_test, y_test, global_model, comm_round)\n",
    "        Accu.append(global_acc)\n",
    "        Loss.append(global_loss)"
   ]
  },
  {
   "cell_type": "code",
   "execution_count": 17,
   "id": "ba02c5ac",
   "metadata": {},
   "outputs": [
    {
     "name": "stdout",
     "output_type": "stream",
     "text": [
      "comm_round: 0 | global_training_acc: 99.594% | global_training_loss: 1.1727808713912964\n",
      "comm_round: 0 | global_acc: 64.542% | global_loss: 1.5137380361557007\n",
      "comm_round: 1 | global_training_acc: 99.621% | global_training_loss: 1.171311855316162\n",
      "comm_round: 1 | global_acc: 65.064% | global_loss: 1.5102020502090454\n",
      "comm_round: 2 | global_training_acc: 99.609% | global_training_loss: 1.1715511083602905\n",
      "comm_round: 2 | global_acc: 65.378% | global_loss: 1.5069102048873901\n",
      "comm_round: 3 | global_training_acc: 99.644% | global_training_loss: 1.1705379486083984\n",
      "comm_round: 3 | global_acc: 65.204% | global_loss: 1.5089365243911743\n",
      "comm_round: 4 | global_training_acc: 99.656% | global_training_loss: 1.1706880331039429\n",
      "comm_round: 4 | global_acc: 65.413% | global_loss: 1.5073859691619873\n"
     ]
    }
   ],
   "source": [
    "#commence global training loop\n",
    "for comm_round in range(5):\n",
    "            \n",
    "    # get the global model's weights - will serve as the initial weights for all local models\n",
    "    global_weights = global_model.get_weights()\n",
    "    \n",
    "    #initial list to collect local model weights after scalling\n",
    "    scaled_local_weight_list = list()\n",
    "\n",
    "    #randomize client data - using keys\n",
    "    client_names= list(clients_batched.keys())\n",
    "    random.shuffle(client_names)\n",
    "    \n",
    "    #loop through each client and create new local model\n",
    "    for client in client_names:\n",
    "        mcnn_local = CNNModel()\n",
    "        local_model = mcnn_local.build((48, 48, 1), 7)\n",
    "        local_model.compile(loss=loss, \n",
    "                      optimizer=optimizer, \n",
    "                      metrics=metrics)\n",
    "        \n",
    "        #set local model weight to the weight of the global model\n",
    "        local_model.set_weights(global_weights)\n",
    "        \n",
    "        #fit local model with client's data\n",
    "        local_model.fit(clients_batched[client], epochs=5, verbose=0)\n",
    "        \n",
    "        #scale the model weights and add to list\n",
    "        scaling_factor = weight_scalling_factor(clients_batched, client)\n",
    "        scaled_weights = scale_model_weights(local_model.get_weights(), scaling_factor)\n",
    "        scaled_local_weight_list.append(scaled_weights)\n",
    "        \n",
    "        #clear session to free memory after each communication round\n",
    "        K.clear_session()\n",
    "        \n",
    "    #to get the average over all the local model, we simply take the sum of the scaled weights\n",
    "    average_weights = sum_scaled_weights(scaled_local_weight_list)\n",
    "    \n",
    "    #update global model \n",
    "    global_model.set_weights(average_weights)\n",
    "\n",
    "    #test global model and print out metrics after each communications round\n",
    "    for(X_train, y_train) in train_batched:\n",
    "        global_train_acc, global_train_loss = test_train_model(X_train, y_train, global_model, comm_round)\n",
    "        Tr_Accu.append(global_train_acc)\n",
    "        Tr_Loss.append(global_train_loss)\n",
    "    for(X_test, y_test) in test_batched:\n",
    "        global_acc, global_loss = test_model(X_test, y_test, global_model, comm_round)\n",
    "        Accu.append(global_acc)\n",
    "        Loss.append(global_loss)"
   ]
  },
  {
   "cell_type": "code",
   "execution_count": 18,
   "id": "c41abc1d",
   "metadata": {},
   "outputs": [
    {
     "name": "stdout",
     "output_type": "stream",
     "text": [
      "comm_round: 0 | global_training_acc: 99.710% | global_training_loss: 1.169805884361267\n",
      "comm_round: 0 | global_acc: 66.040% | global_loss: 1.50443434715271\n",
      "comm_round: 1 | global_training_acc: 99.741% | global_training_loss: 1.169114589691162\n",
      "comm_round: 1 | global_acc: 66.144% | global_loss: 1.502865195274353\n",
      "comm_round: 2 | global_training_acc: 99.721% | global_training_loss: 1.1694810390472412\n",
      "comm_round: 2 | global_acc: 65.657% | global_loss: 1.5059698820114136\n",
      "comm_round: 3 | global_training_acc: 99.725% | global_training_loss: 1.1690593957901\n",
      "comm_round: 3 | global_acc: 65.796% | global_loss: 1.5032628774642944\n",
      "comm_round: 4 | global_training_acc: 99.748% | global_training_loss: 1.16879403591156\n",
      "comm_round: 4 | global_acc: 65.970% | global_loss: 1.5022674798965454\n"
     ]
    }
   ],
   "source": [
    "#commence global training loop\n",
    "for comm_round in range(5):\n",
    "            \n",
    "    # get the global model's weights - will serve as the initial weights for all local models\n",
    "    global_weights = global_model.get_weights()\n",
    "    \n",
    "    #initial list to collect local model weights after scalling\n",
    "    scaled_local_weight_list = list()\n",
    "\n",
    "    #randomize client data - using keys\n",
    "    client_names= list(clients_batched.keys())\n",
    "    random.shuffle(client_names)\n",
    "    \n",
    "    #loop through each client and create new local model\n",
    "    for client in client_names:\n",
    "        mcnn_local = CNNModel()\n",
    "        local_model = mcnn_local.build((48, 48, 1), 7)\n",
    "        local_model.compile(loss=loss, \n",
    "                      optimizer=optimizer, \n",
    "                      metrics=metrics)\n",
    "        \n",
    "        #set local model weight to the weight of the global model\n",
    "        local_model.set_weights(global_weights)\n",
    "        \n",
    "        #fit local model with client's data\n",
    "        local_model.fit(clients_batched[client], epochs=5, verbose=0)\n",
    "        \n",
    "        #scale the model weights and add to list\n",
    "        scaling_factor = weight_scalling_factor(clients_batched, client)\n",
    "        scaled_weights = scale_model_weights(local_model.get_weights(), scaling_factor)\n",
    "        scaled_local_weight_list.append(scaled_weights)\n",
    "        \n",
    "        #clear session to free memory after each communication round\n",
    "        K.clear_session()\n",
    "        \n",
    "    #to get the average over all the local model, we simply take the sum of the scaled weights\n",
    "    average_weights = sum_scaled_weights(scaled_local_weight_list)\n",
    "    \n",
    "    #update global model \n",
    "    global_model.set_weights(average_weights)\n",
    "\n",
    "    #test global model and print out metrics after each communications round\n",
    "    for(X_train, y_train) in train_batched:\n",
    "        global_train_acc, global_train_loss = test_train_model(X_train, y_train, global_model, comm_round)\n",
    "        Tr_Accu.append(global_train_acc)\n",
    "        Tr_Loss.append(global_train_loss)\n",
    "    for(X_test, y_test) in test_batched:\n",
    "        global_acc, global_loss = test_model(X_test, y_test, global_model, comm_round)\n",
    "        Accu.append(global_acc)\n",
    "        Loss.append(global_loss)"
   ]
  },
  {
   "cell_type": "code",
   "execution_count": 19,
   "id": "99aa454f",
   "metadata": {},
   "outputs": [
    {
     "name": "stdout",
     "output_type": "stream",
     "text": [
      "comm_round: 0 | global_training_acc: 99.694% | global_training_loss: 1.169083833694458\n",
      "comm_round: 0 | global_acc: 66.109% | global_loss: 1.5033321380615234\n",
      "comm_round: 1 | global_training_acc: 99.752% | global_training_loss: 1.168438196182251\n",
      "comm_round: 1 | global_acc: 66.318% | global_loss: 1.5023103952407837\n",
      "comm_round: 2 | global_training_acc: 99.772% | global_training_loss: 1.168513298034668\n",
      "comm_round: 2 | global_acc: 65.413% | global_loss: 1.5070348978042603\n",
      "comm_round: 3 | global_training_acc: 99.768% | global_training_loss: 1.1684163808822632\n",
      "comm_round: 3 | global_acc: 65.308% | global_loss: 1.5054563283920288\n",
      "comm_round: 4 | global_training_acc: 99.756% | global_training_loss: 1.168697476387024\n",
      "comm_round: 4 | global_acc: 65.935% | global_loss: 1.5051239728927612\n",
      "comm_round: 5 | global_training_acc: 99.764% | global_training_loss: 1.168330430984497\n",
      "comm_round: 5 | global_acc: 65.099% | global_loss: 1.507287621498108\n",
      "comm_round: 6 | global_training_acc: 99.776% | global_training_loss: 1.1681731939315796\n",
      "comm_round: 6 | global_acc: 65.657% | global_loss: 1.5052818059921265\n"
     ]
    },
    {
     "ename": "ResourceExhaustedError",
     "evalue": " OOM when allocating tensor with shape[256,256,3,3] and type float on /job:localhost/replica:0/task:0/device:GPU:0 by allocator GPU_0_bfc\n\t [[node gradient_tape/sequential/conv2d_7/Conv2D/Conv2DBackpropFilter\n (defined at C:\\Users\\USER\\anaconda3\\envs\\tf-keras-gpu-test\\lib\\site-packages\\keras\\optimizer_v2\\optimizer_v2.py:464)\n]]\nHint: If you want to see a list of allocated tensors when OOM happens, add report_tensor_allocations_upon_oom to RunOptions for current allocation info. This isn't available when running in Eager mode.\n [Op:__inference_train_function_1468823]\n\nErrors may have originated from an input operation.\nInput Source operations connected to node gradient_tape/sequential/conv2d_7/Conv2D/Conv2DBackpropFilter:\nIn[0] sequential/batch_normalization_6/FusedBatchNormV3 (defined at C:\\Users\\USER\\anaconda3\\envs\\tf-keras-gpu-test\\lib\\site-packages\\keras\\layers\\normalization\\batch_normalization.py:589)\t\nIn[1] gradient_tape/sequential/conv2d_7/Conv2D/ShapeN:\t\nIn[2] gradient_tape/sequential/conv2d_7/ReluGrad:\n\nOperation defined at: (most recent call last)\n>>>   File \"C:\\Users\\USER\\anaconda3\\envs\\tf-keras-gpu-test\\lib\\runpy.py\", line 197, in _run_module_as_main\n>>>     return _run_code(code, main_globals, None,\n>>> \n>>>   File \"C:\\Users\\USER\\anaconda3\\envs\\tf-keras-gpu-test\\lib\\runpy.py\", line 87, in _run_code\n>>>     exec(code, run_globals)\n>>> \n>>>   File \"C:\\Users\\USER\\anaconda3\\envs\\tf-keras-gpu-test\\lib\\site-packages\\ipykernel_launcher.py\", line 16, in <module>\n>>>     app.launch_new_instance()\n>>> \n>>>   File \"C:\\Users\\USER\\anaconda3\\envs\\tf-keras-gpu-test\\lib\\site-packages\\traitlets\\config\\application.py\", line 846, in launch_instance\n>>>     app.start()\n>>> \n>>>   File \"C:\\Users\\USER\\anaconda3\\envs\\tf-keras-gpu-test\\lib\\site-packages\\ipykernel\\kernelapp.py\", line 677, in start\n>>>     self.io_loop.start()\n>>> \n>>>   File \"C:\\Users\\USER\\anaconda3\\envs\\tf-keras-gpu-test\\lib\\site-packages\\tornado\\platform\\asyncio.py\", line 199, in start\n>>>     self.asyncio_loop.run_forever()\n>>> \n>>>   File \"C:\\Users\\USER\\anaconda3\\envs\\tf-keras-gpu-test\\lib\\asyncio\\base_events.py\", line 596, in run_forever\n>>>     self._run_once()\n>>> \n>>>   File \"C:\\Users\\USER\\anaconda3\\envs\\tf-keras-gpu-test\\lib\\asyncio\\base_events.py\", line 1890, in _run_once\n>>>     handle._run()\n>>> \n>>>   File \"C:\\Users\\USER\\anaconda3\\envs\\tf-keras-gpu-test\\lib\\asyncio\\events.py\", line 80, in _run\n>>>     self._context.run(self._callback, *self._args)\n>>> \n>>>   File \"C:\\Users\\USER\\anaconda3\\envs\\tf-keras-gpu-test\\lib\\site-packages\\ipykernel\\kernelbase.py\", line 457, in dispatch_queue\n>>>     await self.process_one()\n>>> \n>>>   File \"C:\\Users\\USER\\anaconda3\\envs\\tf-keras-gpu-test\\lib\\site-packages\\ipykernel\\kernelbase.py\", line 446, in process_one\n>>>     await dispatch(*args)\n>>> \n>>>   File \"C:\\Users\\USER\\anaconda3\\envs\\tf-keras-gpu-test\\lib\\site-packages\\ipykernel\\kernelbase.py\", line 353, in dispatch_shell\n>>>     await result\n>>> \n>>>   File \"C:\\Users\\USER\\anaconda3\\envs\\tf-keras-gpu-test\\lib\\site-packages\\ipykernel\\kernelbase.py\", line 648, in execute_request\n>>>     reply_content = await reply_content\n>>> \n>>>   File \"C:\\Users\\USER\\anaconda3\\envs\\tf-keras-gpu-test\\lib\\site-packages\\ipykernel\\ipkernel.py\", line 353, in do_execute\n>>>     res = shell.run_cell(code, store_history=store_history, silent=silent)\n>>> \n>>>   File \"C:\\Users\\USER\\anaconda3\\envs\\tf-keras-gpu-test\\lib\\site-packages\\ipykernel\\zmqshell.py\", line 533, in run_cell\n>>>     return super(ZMQInteractiveShell, self).run_cell(*args, **kwargs)\n>>> \n>>>   File \"C:\\Users\\USER\\anaconda3\\envs\\tf-keras-gpu-test\\lib\\site-packages\\IPython\\core\\interactiveshell.py\", line 2901, in run_cell\n>>>     result = self._run_cell(\n>>> \n>>>   File \"C:\\Users\\USER\\anaconda3\\envs\\tf-keras-gpu-test\\lib\\site-packages\\IPython\\core\\interactiveshell.py\", line 2947, in _run_cell\n>>>     return runner(coro)\n>>> \n>>>   File \"C:\\Users\\USER\\anaconda3\\envs\\tf-keras-gpu-test\\lib\\site-packages\\IPython\\core\\async_helpers.py\", line 68, in _pseudo_sync_runner\n>>>     coro.send(None)\n>>> \n>>>   File \"C:\\Users\\USER\\anaconda3\\envs\\tf-keras-gpu-test\\lib\\site-packages\\IPython\\core\\interactiveshell.py\", line 3172, in run_cell_async\n>>>     has_raised = await self.run_ast_nodes(code_ast.body, cell_name,\n>>> \n>>>   File \"C:\\Users\\USER\\anaconda3\\envs\\tf-keras-gpu-test\\lib\\site-packages\\IPython\\core\\interactiveshell.py\", line 3364, in run_ast_nodes\n>>>     if (await self.run_code(code, result,  async_=asy)):\n>>> \n>>>   File \"C:\\Users\\USER\\anaconda3\\envs\\tf-keras-gpu-test\\lib\\site-packages\\IPython\\core\\interactiveshell.py\", line 3444, in run_code\n>>>     exec(code_obj, self.user_global_ns, self.user_ns)\n>>> \n>>>   File \"C:\\Users\\USER\\AppData\\Local\\Temp/ipykernel_20928/2906472526.py\", line 26, in <module>\n>>>     local_model.fit(clients_batched[client], epochs=5, verbose=0)\n>>> \n>>>   File \"C:\\Users\\USER\\anaconda3\\envs\\tf-keras-gpu-test\\lib\\site-packages\\keras\\utils\\traceback_utils.py\", line 64, in error_handler\n>>>     return fn(*args, **kwargs)\n>>> \n>>>   File \"C:\\Users\\USER\\anaconda3\\envs\\tf-keras-gpu-test\\lib\\site-packages\\keras\\engine\\training.py\", line 1216, in fit\n>>>     tmp_logs = self.train_function(iterator)\n>>> \n>>>   File \"C:\\Users\\USER\\anaconda3\\envs\\tf-keras-gpu-test\\lib\\site-packages\\keras\\engine\\training.py\", line 878, in train_function\n>>>     return step_function(self, iterator)\n>>> \n>>>   File \"C:\\Users\\USER\\anaconda3\\envs\\tf-keras-gpu-test\\lib\\site-packages\\keras\\engine\\training.py\", line 867, in step_function\n>>>     outputs = model.distribute_strategy.run(run_step, args=(data,))\n>>> \n>>>   File \"C:\\Users\\USER\\anaconda3\\envs\\tf-keras-gpu-test\\lib\\site-packages\\keras\\engine\\training.py\", line 860, in run_step\n>>>     outputs = model.train_step(data)\n>>> \n>>>   File \"C:\\Users\\USER\\anaconda3\\envs\\tf-keras-gpu-test\\lib\\site-packages\\keras\\engine\\training.py\", line 816, in train_step\n>>>     self.optimizer.minimize(loss, self.trainable_variables, tape=tape)\n>>> \n>>>   File \"C:\\Users\\USER\\anaconda3\\envs\\tf-keras-gpu-test\\lib\\site-packages\\keras\\optimizer_v2\\optimizer_v2.py\", line 530, in minimize\n>>>     grads_and_vars = self._compute_gradients(\n>>> \n>>>   File \"C:\\Users\\USER\\anaconda3\\envs\\tf-keras-gpu-test\\lib\\site-packages\\keras\\optimizer_v2\\optimizer_v2.py\", line 583, in _compute_gradients\n>>>     grads_and_vars = self._get_gradients(tape, loss, var_list, grad_loss)\n>>> \n>>>   File \"C:\\Users\\USER\\anaconda3\\envs\\tf-keras-gpu-test\\lib\\site-packages\\keras\\optimizer_v2\\optimizer_v2.py\", line 464, in _get_gradients\n>>>     grads = tape.gradient(loss, var_list, grad_loss)\n>>> ",
     "output_type": "error",
     "traceback": [
      "\u001b[1;31m---------------------------------------------------------------------------\u001b[0m",
      "\u001b[1;31mResourceExhaustedError\u001b[0m                    Traceback (most recent call last)",
      "\u001b[1;32m~\\AppData\\Local\\Temp/ipykernel_20928/2906472526.py\u001b[0m in \u001b[0;36m<module>\u001b[1;34m\u001b[0m\n\u001b[0;32m     24\u001b[0m \u001b[1;33m\u001b[0m\u001b[0m\n\u001b[0;32m     25\u001b[0m         \u001b[1;31m#fit local model with client's data\u001b[0m\u001b[1;33m\u001b[0m\u001b[1;33m\u001b[0m\u001b[0m\n\u001b[1;32m---> 26\u001b[1;33m         \u001b[0mlocal_model\u001b[0m\u001b[1;33m.\u001b[0m\u001b[0mfit\u001b[0m\u001b[1;33m(\u001b[0m\u001b[0mclients_batched\u001b[0m\u001b[1;33m[\u001b[0m\u001b[0mclient\u001b[0m\u001b[1;33m]\u001b[0m\u001b[1;33m,\u001b[0m \u001b[0mepochs\u001b[0m\u001b[1;33m=\u001b[0m\u001b[1;36m5\u001b[0m\u001b[1;33m,\u001b[0m \u001b[0mverbose\u001b[0m\u001b[1;33m=\u001b[0m\u001b[1;36m0\u001b[0m\u001b[1;33m)\u001b[0m\u001b[1;33m\u001b[0m\u001b[1;33m\u001b[0m\u001b[0m\n\u001b[0m\u001b[0;32m     27\u001b[0m \u001b[1;33m\u001b[0m\u001b[0m\n\u001b[0;32m     28\u001b[0m         \u001b[1;31m#scale the model weights and add to list\u001b[0m\u001b[1;33m\u001b[0m\u001b[1;33m\u001b[0m\u001b[0m\n",
      "\u001b[1;32m~\\anaconda3\\envs\\tf-keras-gpu-test\\lib\\site-packages\\keras\\utils\\traceback_utils.py\u001b[0m in \u001b[0;36merror_handler\u001b[1;34m(*args, **kwargs)\u001b[0m\n\u001b[0;32m     65\u001b[0m     \u001b[1;32mexcept\u001b[0m \u001b[0mException\u001b[0m \u001b[1;32mas\u001b[0m \u001b[0me\u001b[0m\u001b[1;33m:\u001b[0m  \u001b[1;31m# pylint: disable=broad-except\u001b[0m\u001b[1;33m\u001b[0m\u001b[1;33m\u001b[0m\u001b[0m\n\u001b[0;32m     66\u001b[0m       \u001b[0mfiltered_tb\u001b[0m \u001b[1;33m=\u001b[0m \u001b[0m_process_traceback_frames\u001b[0m\u001b[1;33m(\u001b[0m\u001b[0me\u001b[0m\u001b[1;33m.\u001b[0m\u001b[0m__traceback__\u001b[0m\u001b[1;33m)\u001b[0m\u001b[1;33m\u001b[0m\u001b[1;33m\u001b[0m\u001b[0m\n\u001b[1;32m---> 67\u001b[1;33m       \u001b[1;32mraise\u001b[0m \u001b[0me\u001b[0m\u001b[1;33m.\u001b[0m\u001b[0mwith_traceback\u001b[0m\u001b[1;33m(\u001b[0m\u001b[0mfiltered_tb\u001b[0m\u001b[1;33m)\u001b[0m \u001b[1;32mfrom\u001b[0m \u001b[1;32mNone\u001b[0m\u001b[1;33m\u001b[0m\u001b[1;33m\u001b[0m\u001b[0m\n\u001b[0m\u001b[0;32m     68\u001b[0m     \u001b[1;32mfinally\u001b[0m\u001b[1;33m:\u001b[0m\u001b[1;33m\u001b[0m\u001b[1;33m\u001b[0m\u001b[0m\n\u001b[0;32m     69\u001b[0m       \u001b[1;32mdel\u001b[0m \u001b[0mfiltered_tb\u001b[0m\u001b[1;33m\u001b[0m\u001b[1;33m\u001b[0m\u001b[0m\n",
      "\u001b[1;32m~\\AppData\\Roaming\\Python\\Python39\\site-packages\\tensorflow\\python\\eager\\execute.py\u001b[0m in \u001b[0;36mquick_execute\u001b[1;34m(op_name, num_outputs, inputs, attrs, ctx, name)\u001b[0m\n\u001b[0;32m     56\u001b[0m   \u001b[1;32mtry\u001b[0m\u001b[1;33m:\u001b[0m\u001b[1;33m\u001b[0m\u001b[1;33m\u001b[0m\u001b[0m\n\u001b[0;32m     57\u001b[0m     \u001b[0mctx\u001b[0m\u001b[1;33m.\u001b[0m\u001b[0mensure_initialized\u001b[0m\u001b[1;33m(\u001b[0m\u001b[1;33m)\u001b[0m\u001b[1;33m\u001b[0m\u001b[1;33m\u001b[0m\u001b[0m\n\u001b[1;32m---> 58\u001b[1;33m     tensors = pywrap_tfe.TFE_Py_Execute(ctx._handle, device_name, op_name,\n\u001b[0m\u001b[0;32m     59\u001b[0m                                         inputs, attrs, num_outputs)\n\u001b[0;32m     60\u001b[0m   \u001b[1;32mexcept\u001b[0m \u001b[0mcore\u001b[0m\u001b[1;33m.\u001b[0m\u001b[0m_NotOkStatusException\u001b[0m \u001b[1;32mas\u001b[0m \u001b[0me\u001b[0m\u001b[1;33m:\u001b[0m\u001b[1;33m\u001b[0m\u001b[1;33m\u001b[0m\u001b[0m\n",
      "\u001b[1;31mResourceExhaustedError\u001b[0m:  OOM when allocating tensor with shape[256,256,3,3] and type float on /job:localhost/replica:0/task:0/device:GPU:0 by allocator GPU_0_bfc\n\t [[node gradient_tape/sequential/conv2d_7/Conv2D/Conv2DBackpropFilter\n (defined at C:\\Users\\USER\\anaconda3\\envs\\tf-keras-gpu-test\\lib\\site-packages\\keras\\optimizer_v2\\optimizer_v2.py:464)\n]]\nHint: If you want to see a list of allocated tensors when OOM happens, add report_tensor_allocations_upon_oom to RunOptions for current allocation info. This isn't available when running in Eager mode.\n [Op:__inference_train_function_1468823]\n\nErrors may have originated from an input operation.\nInput Source operations connected to node gradient_tape/sequential/conv2d_7/Conv2D/Conv2DBackpropFilter:\nIn[0] sequential/batch_normalization_6/FusedBatchNormV3 (defined at C:\\Users\\USER\\anaconda3\\envs\\tf-keras-gpu-test\\lib\\site-packages\\keras\\layers\\normalization\\batch_normalization.py:589)\t\nIn[1] gradient_tape/sequential/conv2d_7/Conv2D/ShapeN:\t\nIn[2] gradient_tape/sequential/conv2d_7/ReluGrad:\n\nOperation defined at: (most recent call last)\n>>>   File \"C:\\Users\\USER\\anaconda3\\envs\\tf-keras-gpu-test\\lib\\runpy.py\", line 197, in _run_module_as_main\n>>>     return _run_code(code, main_globals, None,\n>>> \n>>>   File \"C:\\Users\\USER\\anaconda3\\envs\\tf-keras-gpu-test\\lib\\runpy.py\", line 87, in _run_code\n>>>     exec(code, run_globals)\n>>> \n>>>   File \"C:\\Users\\USER\\anaconda3\\envs\\tf-keras-gpu-test\\lib\\site-packages\\ipykernel_launcher.py\", line 16, in <module>\n>>>     app.launch_new_instance()\n>>> \n>>>   File \"C:\\Users\\USER\\anaconda3\\envs\\tf-keras-gpu-test\\lib\\site-packages\\traitlets\\config\\application.py\", line 846, in launch_instance\n>>>     app.start()\n>>> \n>>>   File \"C:\\Users\\USER\\anaconda3\\envs\\tf-keras-gpu-test\\lib\\site-packages\\ipykernel\\kernelapp.py\", line 677, in start\n>>>     self.io_loop.start()\n>>> \n>>>   File \"C:\\Users\\USER\\anaconda3\\envs\\tf-keras-gpu-test\\lib\\site-packages\\tornado\\platform\\asyncio.py\", line 199, in start\n>>>     self.asyncio_loop.run_forever()\n>>> \n>>>   File \"C:\\Users\\USER\\anaconda3\\envs\\tf-keras-gpu-test\\lib\\asyncio\\base_events.py\", line 596, in run_forever\n>>>     self._run_once()\n>>> \n>>>   File \"C:\\Users\\USER\\anaconda3\\envs\\tf-keras-gpu-test\\lib\\asyncio\\base_events.py\", line 1890, in _run_once\n>>>     handle._run()\n>>> \n>>>   File \"C:\\Users\\USER\\anaconda3\\envs\\tf-keras-gpu-test\\lib\\asyncio\\events.py\", line 80, in _run\n>>>     self._context.run(self._callback, *self._args)\n>>> \n>>>   File \"C:\\Users\\USER\\anaconda3\\envs\\tf-keras-gpu-test\\lib\\site-packages\\ipykernel\\kernelbase.py\", line 457, in dispatch_queue\n>>>     await self.process_one()\n>>> \n>>>   File \"C:\\Users\\USER\\anaconda3\\envs\\tf-keras-gpu-test\\lib\\site-packages\\ipykernel\\kernelbase.py\", line 446, in process_one\n>>>     await dispatch(*args)\n>>> \n>>>   File \"C:\\Users\\USER\\anaconda3\\envs\\tf-keras-gpu-test\\lib\\site-packages\\ipykernel\\kernelbase.py\", line 353, in dispatch_shell\n>>>     await result\n>>> \n>>>   File \"C:\\Users\\USER\\anaconda3\\envs\\tf-keras-gpu-test\\lib\\site-packages\\ipykernel\\kernelbase.py\", line 648, in execute_request\n>>>     reply_content = await reply_content\n>>> \n>>>   File \"C:\\Users\\USER\\anaconda3\\envs\\tf-keras-gpu-test\\lib\\site-packages\\ipykernel\\ipkernel.py\", line 353, in do_execute\n>>>     res = shell.run_cell(code, store_history=store_history, silent=silent)\n>>> \n>>>   File \"C:\\Users\\USER\\anaconda3\\envs\\tf-keras-gpu-test\\lib\\site-packages\\ipykernel\\zmqshell.py\", line 533, in run_cell\n>>>     return super(ZMQInteractiveShell, self).run_cell(*args, **kwargs)\n>>> \n>>>   File \"C:\\Users\\USER\\anaconda3\\envs\\tf-keras-gpu-test\\lib\\site-packages\\IPython\\core\\interactiveshell.py\", line 2901, in run_cell\n>>>     result = self._run_cell(\n>>> \n>>>   File \"C:\\Users\\USER\\anaconda3\\envs\\tf-keras-gpu-test\\lib\\site-packages\\IPython\\core\\interactiveshell.py\", line 2947, in _run_cell\n>>>     return runner(coro)\n>>> \n>>>   File \"C:\\Users\\USER\\anaconda3\\envs\\tf-keras-gpu-test\\lib\\site-packages\\IPython\\core\\async_helpers.py\", line 68, in _pseudo_sync_runner\n>>>     coro.send(None)\n>>> \n>>>   File \"C:\\Users\\USER\\anaconda3\\envs\\tf-keras-gpu-test\\lib\\site-packages\\IPython\\core\\interactiveshell.py\", line 3172, in run_cell_async\n>>>     has_raised = await self.run_ast_nodes(code_ast.body, cell_name,\n>>> \n>>>   File \"C:\\Users\\USER\\anaconda3\\envs\\tf-keras-gpu-test\\lib\\site-packages\\IPython\\core\\interactiveshell.py\", line 3364, in run_ast_nodes\n>>>     if (await self.run_code(code, result,  async_=asy)):\n>>> \n>>>   File \"C:\\Users\\USER\\anaconda3\\envs\\tf-keras-gpu-test\\lib\\site-packages\\IPython\\core\\interactiveshell.py\", line 3444, in run_code\n>>>     exec(code_obj, self.user_global_ns, self.user_ns)\n>>> \n>>>   File \"C:\\Users\\USER\\AppData\\Local\\Temp/ipykernel_20928/2906472526.py\", line 26, in <module>\n>>>     local_model.fit(clients_batched[client], epochs=5, verbose=0)\n>>> \n>>>   File \"C:\\Users\\USER\\anaconda3\\envs\\tf-keras-gpu-test\\lib\\site-packages\\keras\\utils\\traceback_utils.py\", line 64, in error_handler\n>>>     return fn(*args, **kwargs)\n>>> \n>>>   File \"C:\\Users\\USER\\anaconda3\\envs\\tf-keras-gpu-test\\lib\\site-packages\\keras\\engine\\training.py\", line 1216, in fit\n>>>     tmp_logs = self.train_function(iterator)\n>>> \n>>>   File \"C:\\Users\\USER\\anaconda3\\envs\\tf-keras-gpu-test\\lib\\site-packages\\keras\\engine\\training.py\", line 878, in train_function\n>>>     return step_function(self, iterator)\n>>> \n>>>   File \"C:\\Users\\USER\\anaconda3\\envs\\tf-keras-gpu-test\\lib\\site-packages\\keras\\engine\\training.py\", line 867, in step_function\n>>>     outputs = model.distribute_strategy.run(run_step, args=(data,))\n>>> \n>>>   File \"C:\\Users\\USER\\anaconda3\\envs\\tf-keras-gpu-test\\lib\\site-packages\\keras\\engine\\training.py\", line 860, in run_step\n>>>     outputs = model.train_step(data)\n>>> \n>>>   File \"C:\\Users\\USER\\anaconda3\\envs\\tf-keras-gpu-test\\lib\\site-packages\\keras\\engine\\training.py\", line 816, in train_step\n>>>     self.optimizer.minimize(loss, self.trainable_variables, tape=tape)\n>>> \n>>>   File \"C:\\Users\\USER\\anaconda3\\envs\\tf-keras-gpu-test\\lib\\site-packages\\keras\\optimizer_v2\\optimizer_v2.py\", line 530, in minimize\n>>>     grads_and_vars = self._compute_gradients(\n>>> \n>>>   File \"C:\\Users\\USER\\anaconda3\\envs\\tf-keras-gpu-test\\lib\\site-packages\\keras\\optimizer_v2\\optimizer_v2.py\", line 583, in _compute_gradients\n>>>     grads_and_vars = self._get_gradients(tape, loss, var_list, grad_loss)\n>>> \n>>>   File \"C:\\Users\\USER\\anaconda3\\envs\\tf-keras-gpu-test\\lib\\site-packages\\keras\\optimizer_v2\\optimizer_v2.py\", line 464, in _get_gradients\n>>>     grads = tape.gradient(loss, var_list, grad_loss)\n>>> "
     ]
    }
   ],
   "source": [
    "#commence global training loop\n",
    "for comm_round in range(10):\n",
    "            \n",
    "    # get the global model's weights - will serve as the initial weights for all local models\n",
    "    global_weights = global_model.get_weights()\n",
    "    \n",
    "    #initial list to collect local model weights after scalling\n",
    "    scaled_local_weight_list = list()\n",
    "\n",
    "    #randomize client data - using keys\n",
    "    client_names= list(clients_batched.keys())\n",
    "    random.shuffle(client_names)\n",
    "    \n",
    "    #loop through each client and create new local model\n",
    "    for client in client_names:\n",
    "        mcnn_local = CNNModel()\n",
    "        local_model = mcnn_local.build((48, 48, 1), 7)\n",
    "        local_model.compile(loss=loss, \n",
    "                      optimizer=optimizer, \n",
    "                      metrics=metrics)\n",
    "        \n",
    "        #set local model weight to the weight of the global model\n",
    "        local_model.set_weights(global_weights)\n",
    "        \n",
    "        #fit local model with client's data\n",
    "        local_model.fit(clients_batched[client], epochs=5, verbose=0)\n",
    "        \n",
    "        #scale the model weights and add to list\n",
    "        scaling_factor = weight_scalling_factor(clients_batched, client)\n",
    "        scaled_weights = scale_model_weights(local_model.get_weights(), scaling_factor)\n",
    "        scaled_local_weight_list.append(scaled_weights)\n",
    "        \n",
    "        #clear session to free memory after each communication round\n",
    "        K.clear_session()\n",
    "        \n",
    "    #to get the average over all the local model, we simply take the sum of the scaled weights\n",
    "    average_weights = sum_scaled_weights(scaled_local_weight_list)\n",
    "    \n",
    "    #update global model \n",
    "    global_model.set_weights(average_weights)\n",
    "\n",
    "    #test global model and print out metrics after each communications round\n",
    "    for(X_train, y_train) in train_batched:\n",
    "        global_train_acc, global_train_loss = test_train_model(X_train, y_train, global_model, comm_round)\n",
    "        Tr_Accu.append(global_train_acc)\n",
    "        Tr_Loss.append(global_train_loss)\n",
    "    for(X_test, y_test) in test_batched:\n",
    "        global_acc, global_loss = test_model(X_test, y_test, global_model, comm_round)\n",
    "        Accu.append(global_acc)\n",
    "        Loss.append(global_loss)"
   ]
  },
  {
   "cell_type": "markdown",
   "id": "9649d3c7",
   "metadata": {},
   "source": [
    "## Evaluation"
   ]
  },
  {
   "cell_type": "code",
   "execution_count": 20,
   "id": "c2301d84",
   "metadata": {},
   "outputs": [
    {
     "data": {
      "image/png": "[encoded data removed]",
      "text/plain": [
       "<Figure size 432x288 with 2 Axes>"
      ]
     },
     "metadata": {
      "needs_background": "light"
     },
     "output_type": "display_data"
    }
   ],
   "source": [
    "from sklearn.metrics import confusion_matrix, ConfusionMatrixDisplay\n",
    "import matplotlib.pyplot as plt\n",
    "\n",
    "pred = global_model.predict(X_test)\n",
    "y_pred=np.argmax(pred,axis=1)\n",
    "rounded_labels=np.argmax(y_test, axis=1)\n",
    "Confusion_Matrix = confusion_matrix(rounded_labels, y_pred)\n",
    "Disp = ConfusionMatrixDisplay(Confusion_Matrix)\n",
    "Disp.plot()\n",
    "plt.show()"
   ]
  },
  {
   "cell_type": "code",
   "execution_count": 21,
   "id": "f1fc5367",
   "metadata": {},
   "outputs": [
    {
     "name": "stdout",
     "output_type": "stream",
     "text": [
      "ROC_AUC Score: 0.8984413090996497\n",
      "Cohen_Kappa Score: 0.5821743448683847\n",
      "F1 Score: 0.650319227255787\n",
      "Matthews Correlation Coefficient: 0.5829144793769877\n",
      "Log Loss: 2.041936348566463\n",
      "Accuracy: 0.6565656565656566\n"
     ]
    }
   ],
   "source": [
    "from sklearn.metrics import roc_auc_score, cohen_kappa_score, f1_score, matthews_corrcoef, log_loss, accuracy_score\n",
    "\n",
    "y_pred_proba = global_model.predict(X_test)\n",
    "\n",
    "ROC_AUC = roc_auc_score(rounded_labels, y_pred_proba, multi_class='ovr')\n",
    "Cohen_Kappa = cohen_kappa_score(rounded_labels, y_pred)\n",
    "F1 = f1_score(rounded_labels, y_pred, average='macro')\n",
    "Matthews = matthews_corrcoef(rounded_labels, y_pred)\n",
    "Log = log_loss(rounded_labels, y_pred_proba)\n",
    "Accuracy = accuracy_score(rounded_labels, y_pred)\n",
    "\n",
    "print('ROC_AUC Score:', ROC_AUC)\n",
    "print('Cohen_Kappa Score:', Cohen_Kappa)\n",
    "print('F1 Score:', F1)\n",
    "print('Matthews Correlation Coefficient:', Matthews)\n",
    "print('Log Loss:', Log)\n",
    "print('Accuracy:', Accuracy)       "
   ]
  },
  {
   "cell_type": "code",
   "execution_count": 22,
   "id": "7c40eba7",
   "metadata": {},
   "outputs": [
    {
     "data": {
      "text/plain": [
       "Text(0, 0.5, 'Loss')"
      ]
     },
     "execution_count": 22,
     "metadata": {},
     "output_type": "execute_result"
    },
    {
     "data": {
      "image/png": "[encoded data removed]",
      "text/plain": [
       "<Figure size 432x288 with 1 Axes>"
      ]
     },
     "metadata": {
      "needs_background": "light"
     },
     "output_type": "display_data"
    },
    {
     "data": {
      "image/png": "[encoded data removed]",
      "text/plain": [
       "<Figure size 432x288 with 1 Axes>"
      ]
     },
     "metadata": {
      "needs_background": "light"
     },
     "output_type": "display_data"
    }
   ],
   "source": [
    "#-----------------------------------------------------------\n",
    "# Retrieve a list of list results on training and test data\n",
    "# sets for each training epoch\n",
    "#-----------------------------------------------------------\n",
    "acc      = Tr_Accu\n",
    "val_acc  = Accu\n",
    "loss     = Tr_Loss\n",
    "val_loss = Loss\n",
    "\n",
    "epochs   = range(len(acc)) # Get number of epochs\n",
    "\n",
    "#------------------------------------------------\n",
    "# Plot training and validation accuracy per epoch\n",
    "#------------------------------------------------\n",
    "plt.figure()\n",
    "plt.plot  ( epochs,     acc )\n",
    "plt.plot  ( epochs, val_acc, color = 'g')\n",
    "plt.title ('Training and Validation Accuracy with FedNet on FER-2013')\n",
    "plt.legend(['Training Accuracy','Validation Accuracy'])\n",
    "plt.xlabel('Comm. Rounds')\n",
    "plt.ylabel('Accuracy')\n",
    "\n",
    "#------------------------------------------------\n",
    "# Plot training and validation loss per epoch\n",
    "#------------------------------------------------\n",
    "plt.figure()\n",
    "plt.plot  ( epochs,     loss )\n",
    "plt.plot  ( epochs, val_loss, color = 'g' )\n",
    "plt.title ('Training and Validation Loss with FedNet on FER-2013')\n",
    "plt.legend(['Training Loss','Validation Loss'])\n",
    "plt.xlabel('Comm. Rounds')\n",
    "plt.ylabel('Loss')"
   ]
  },
  {
   "cell_type": "code",
   "execution_count": null,
   "id": "db3c8338",
   "metadata": {},
   "outputs": [],
   "source": []
  }
 ],
 "metadata": {
  "kernelspec": {
   "display_name": "Python 3 (ipykernel)",
   "language": "python",
   "name": "python3"
  },
  "language_info": {
   "codemirror_mode": {
    "name": "ipython",
    "version": 3
   },
   "file_extension": ".py",
   "mimetype": "text/x-python",
   "name": "python",
   "nbconvert_exporter": "python",
   "pygments_lexer": "ipython3",
   "version": "3.9.7"
  }
 },
 "nbformat": 4,
 "nbformat_minor": 5
}
